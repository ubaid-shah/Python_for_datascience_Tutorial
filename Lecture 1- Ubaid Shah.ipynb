{
 "cells": [
  {
   "cell_type": "markdown",
   "id": "37cad650",
   "metadata": {},
   "source": [
    "#  Python Basics Lecture 1"
   ]
  },
  {
   "cell_type": "code",
   "execution_count": null,
   "id": "bedab3ae",
   "metadata": {},
   "outputs": [],
   "source": [
    "print(\"Hello World!\")"
   ]
  },
  {
   "cell_type": "code",
   "execution_count": null,
   "id": "e3a14a33",
   "metadata": {},
   "outputs": [],
   "source": [
    "print(\"'Hello World!'\")"
   ]
  },
  {
   "cell_type": "code",
   "execution_count": null,
   "id": "f8f7c852",
   "metadata": {},
   "outputs": [],
   "source": [
    "print('Hello World!')"
   ]
  },
  {
   "cell_type": "code",
   "execution_count": null,
   "id": "df90b300",
   "metadata": {},
   "outputs": [],
   "source": [
    "print(\"This is 'orang's' color\")"
   ]
  },
  {
   "cell_type": "code",
   "execution_count": null,
   "id": "929a15ee",
   "metadata": {},
   "outputs": [],
   "source": [
    "print(\"This is \"orang's\" color\")"
   ]
  },
  {
   "cell_type": "code",
   "execution_count": null,
   "id": "22319456",
   "metadata": {},
   "outputs": [],
   "source": [
    "print(\"This is \\\"orang's\\\" color\")"
   ]
  },
  {
   "cell_type": "code",
   "execution_count": null,
   "id": "2e5b21c6",
   "metadata": {},
   "outputs": [],
   "source": [
    "print(\"This is \\torang's\\ color\")"
   ]
  },
  {
   "cell_type": "code",
   "execution_count": null,
   "id": "15760e84",
   "metadata": {},
   "outputs": [],
   "source": [
    "strvar=\"Board Infinity\""
   ]
  },
  {
   "cell_type": "code",
   "execution_count": null,
   "id": "a1b4fce2",
   "metadata": {},
   "outputs": [],
   "source": [
    "strvar"
   ]
  },
  {
   "cell_type": "code",
   "execution_count": null,
   "id": "ceae3207",
   "metadata": {},
   "outputs": [],
   "source": [
    "print(strvar)"
   ]
  },
  {
   "cell_type": "code",
   "execution_count": null,
   "id": "d4ff5637",
   "metadata": {},
   "outputs": [],
   "source": [
    "type(strvar)"
   ]
  },
  {
   "cell_type": "code",
   "execution_count": null,
   "id": "544c6c66",
   "metadata": {},
   "outputs": [],
   "source": [
    "print(type(strvar))"
   ]
  },
  {
   "cell_type": "code",
   "execution_count": null,
   "id": "0e8ccf50",
   "metadata": {},
   "outputs": [],
   "source": [
    "integer_string=\"152\""
   ]
  },
  {
   "cell_type": "code",
   "execution_count": null,
   "id": "8dfc034c",
   "metadata": {},
   "outputs": [],
   "source": [
    "type(integer_string)"
   ]
  },
  {
   "cell_type": "code",
   "execution_count": null,
   "id": "e1997b29",
   "metadata": {},
   "outputs": [],
   "source": [
    "inte=1520"
   ]
  },
  {
   "cell_type": "code",
   "execution_count": null,
   "id": "c26db9fa",
   "metadata": {},
   "outputs": [],
   "source": [
    "type(inte)"
   ]
  },
  {
   "cell_type": "code",
   "execution_count": null,
   "id": "dd71ab61",
   "metadata": {
    "scrolled": true
   },
   "outputs": [],
   "source": [
    "inte=15.20\n",
    "type(inte)"
   ]
  },
  {
   "cell_type": "code",
   "execution_count": null,
   "id": "bcbee9ce",
   "metadata": {},
   "outputs": [],
   "source": [
    "is_it=False\n",
    "\n",
    "print(is_it)"
   ]
  },
  {
   "cell_type": "code",
   "execution_count": null,
   "id": "50b00006",
   "metadata": {},
   "outputs": [],
   "source": [
    "type(is_it)"
   ]
  },
  {
   "cell_type": "code",
   "execution_count": null,
   "id": "67c9894a",
   "metadata": {},
   "outputs": [],
   "source": [
    "type(\"Mango\")"
   ]
  },
  {
   "cell_type": "code",
   "execution_count": null,
   "id": "3b767b7d",
   "metadata": {},
   "outputs": [],
   "source": [
    "strvar=\"Board Infinity\""
   ]
  },
  {
   "cell_type": "code",
   "execution_count": null,
   "id": "01e8d7c2",
   "metadata": {},
   "outputs": [],
   "source": [
    "strvar.lower()"
   ]
  },
  {
   "cell_type": "code",
   "execution_count": null,
   "id": "c6a88014",
   "metadata": {},
   "outputs": [],
   "source": [
    "strvar.upper()"
   ]
  },
  {
   "cell_type": "code",
   "execution_count": null,
   "id": "7b28ba54",
   "metadata": {},
   "outputs": [],
   "source": [
    "strvar.split()"
   ]
  },
  {
   "cell_type": "code",
   "execution_count": null,
   "id": "e5338e29",
   "metadata": {},
   "outputs": [],
   "source": [
    "strvar"
   ]
  },
  {
   "cell_type": "code",
   "execution_count": null,
   "id": "4e097baa",
   "metadata": {},
   "outputs": [],
   "source": [
    "strvar[0]"
   ]
  },
  {
   "cell_type": "code",
   "execution_count": null,
   "id": "635f0dc7",
   "metadata": {},
   "outputs": [],
   "source": [
    "strvar[0:2]"
   ]
  },
  {
   "cell_type": "code",
   "execution_count": null,
   "id": "1c8b0d22",
   "metadata": {},
   "outputs": [],
   "source": [
    "strvar[0:5]"
   ]
  },
  {
   "cell_type": "code",
   "execution_count": null,
   "id": "4d9aa537",
   "metadata": {},
   "outputs": [],
   "source": [
    "strvar[:5]"
   ]
  },
  {
   "cell_type": "code",
   "execution_count": null,
   "id": "90b76673",
   "metadata": {},
   "outputs": [],
   "source": [
    "strvar[6:]"
   ]
  },
  {
   "cell_type": "code",
   "execution_count": null,
   "id": "e080ab5a",
   "metadata": {},
   "outputs": [],
   "source": [
    "strvar[-5:]"
   ]
  },
  {
   "cell_type": "code",
   "execution_count": null,
   "id": "3d14c49c",
   "metadata": {},
   "outputs": [],
   "source": [
    "strvar[-4]"
   ]
  },
  {
   "cell_type": "code",
   "execution_count": null,
   "id": "5effa800",
   "metadata": {},
   "outputs": [],
   "source": [
    "strvar[6:9]"
   ]
  },
  {
   "cell_type": "code",
   "execution_count": null,
   "id": "b3e5f8a4",
   "metadata": {},
   "outputs": [],
   "source": [
    "ptr=4"
   ]
  },
  {
   "cell_type": "code",
   "execution_count": null,
   "id": "7929eafe",
   "metadata": {},
   "outputs": [],
   "source": [
    "strvar[:ptr]"
   ]
  },
  {
   "cell_type": "code",
   "execution_count": null,
   "id": "e4acc83f",
   "metadata": {},
   "outputs": [],
   "source": [
    "strvar[4]=\"q\""
   ]
  },
  {
   "cell_type": "code",
   "execution_count": null,
   "id": "de8c263e",
   "metadata": {},
   "outputs": [],
   "source": [
    "strvar[::-1]"
   ]
  },
  {
   "cell_type": "markdown",
   "id": "39bd2133",
   "metadata": {},
   "source": [
    "# Exercise 1:"
   ]
  },
  {
   "cell_type": "code",
   "execution_count": null,
   "id": "8b7230b2",
   "metadata": {},
   "outputs": [],
   "source": [
    "target=\"Data Scientist\""
   ]
  },
  {
   "cell_type": "code",
   "execution_count": null,
   "id": "ce7352aa",
   "metadata": {},
   "outputs": [],
   "source": [
    "target"
   ]
  },
  {
   "cell_type": "code",
   "execution_count": null,
   "id": "4cf244af",
   "metadata": {},
   "outputs": [],
   "source": [
    "my_aim=\"I want to become a Data Scientist.\""
   ]
  },
  {
   "cell_type": "code",
   "execution_count": null,
   "id": "62a0f7ba",
   "metadata": {},
   "outputs": [],
   "source": [
    "my_aim.replace(\"want to\",\"will\")"
   ]
  },
  {
   "cell_type": "code",
   "execution_count": null,
   "id": "eee5780e",
   "metadata": {},
   "outputs": [],
   "source": [
    "my_aim"
   ]
  },
  {
   "cell_type": "code",
   "execution_count": null,
   "id": "f853355c",
   "metadata": {},
   "outputs": [],
   "source": [
    "my_aim = my_aim.replace(\"want to\",\"will\")"
   ]
  },
  {
   "cell_type": "code",
   "execution_count": null,
   "id": "17cb360e",
   "metadata": {},
   "outputs": [],
   "source": [
    "my_aim"
   ]
  },
  {
   "cell_type": "code",
   "execution_count": null,
   "id": "3f5b7cf3",
   "metadata": {},
   "outputs": [],
   "source": [
    "my_aim.count(\"a\")"
   ]
  },
  {
   "cell_type": "code",
   "execution_count": null,
   "id": "c837c1ef",
   "metadata": {},
   "outputs": [],
   "source": [
    "no_of_a= my_aim.count(\"a\")\n",
    "\n",
    "print(\"number of occurance of 'a' in my_aim: \", no_of_a)"
   ]
  },
  {
   "cell_type": "code",
   "execution_count": null,
   "id": "d47e4217",
   "metadata": {},
   "outputs": [],
   "source": [
    "print(\"number of occurances\"+\" of 'a' in my_aim\"+no_of_a)"
   ]
  },
  {
   "cell_type": "code",
   "execution_count": null,
   "id": "84a2c85e",
   "metadata": {},
   "outputs": [],
   "source": [
    "print(\"number of occurances\"+\" of 'a' in my_aim: \"+str(no_of_a))"
   ]
  },
  {
   "cell_type": "code",
   "execution_count": null,
   "id": "bb8f6118",
   "metadata": {},
   "outputs": [],
   "source": []
  }
 ],
 "metadata": {
  "kernelspec": {
   "display_name": "Python 3",
   "language": "python",
   "name": "python3"
  },
  "language_info": {
   "codemirror_mode": {
    "name": "ipython",
    "version": 3
   },
   "file_extension": ".py",
   "mimetype": "text/x-python",
   "name": "python",
   "nbconvert_exporter": "python",
   "pygments_lexer": "ipython3",
   "version": "3.8.8"
  }
 },
 "nbformat": 4,
 "nbformat_minor": 5
}
