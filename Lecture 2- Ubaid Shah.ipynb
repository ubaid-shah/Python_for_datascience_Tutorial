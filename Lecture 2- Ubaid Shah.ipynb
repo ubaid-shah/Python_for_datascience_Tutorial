{
 "cells": [
  {
   "cell_type": "markdown",
   "id": "37cad650",
   "metadata": {},
   "source": [
    "#  Python Basics Lecture 2"
   ]
  },
  {
   "cell_type": "markdown",
   "id": "f470167d",
   "metadata": {},
   "source": [
    "# List"
   ]
  },
  {
   "cell_type": "code",
   "execution_count": null,
   "id": "71dd93c8",
   "metadata": {},
   "outputs": [],
   "source": [
    "Beatles=[\"John\",\"Paul\",\"Gearge\",\"Ringo\"]                                        #Create a list"
   ]
  },
  {
   "cell_type": "code",
   "execution_count": null,
   "id": "f9e3ab2d",
   "metadata": {},
   "outputs": [],
   "source": [
    "Beatles"
   ]
  },
  {
   "cell_type": "code",
   "execution_count": null,
   "id": "f68cb86e",
   "metadata": {},
   "outputs": [],
   "source": [
    "grades=[82,92,67,99,100]"
   ]
  },
  {
   "cell_type": "code",
   "execution_count": null,
   "id": "394b9aa1",
   "metadata": {},
   "outputs": [],
   "source": [
    "grades"
   ]
  },
  {
   "cell_type": "code",
   "execution_count": null,
   "id": "5d0a6ad8",
   "metadata": {},
   "outputs": [],
   "source": [
    "Beatles[0]                                            # Grab the element using index"
   ]
  },
  {
   "cell_type": "code",
   "execution_count": null,
   "id": "404755ba",
   "metadata": {},
   "outputs": [],
   "source": [
    "Beatles[-1]  "
   ]
  },
  {
   "cell_type": "code",
   "execution_count": null,
   "id": "1cf2c70b",
   "metadata": {},
   "outputs": [],
   "source": [
    "Beatles[3]  "
   ]
  },
  {
   "cell_type": "code",
   "execution_count": null,
   "id": "2705ff37",
   "metadata": {},
   "outputs": [],
   "source": [
    "list1=[1,2,3]"
   ]
  },
  {
   "cell_type": "code",
   "execution_count": null,
   "id": "bac4e2d0",
   "metadata": {},
   "outputs": [],
   "source": [
    "list2=[1,7]"
   ]
  },
  {
   "cell_type": "code",
   "execution_count": null,
   "id": "504bceed",
   "metadata": {},
   "outputs": [],
   "source": [
    "list3=[2,5]"
   ]
  },
  {
   "cell_type": "code",
   "execution_count": null,
   "id": "4f7236a5",
   "metadata": {},
   "outputs": [],
   "source": [
    "final_list=[list1,list2,list3]                             #List of lists"
   ]
  },
  {
   "cell_type": "code",
   "execution_count": null,
   "id": "fd8358bb",
   "metadata": {},
   "outputs": [],
   "source": [
    "final_list"
   ]
  },
  {
   "cell_type": "code",
   "execution_count": null,
   "id": "e763cfa0",
   "metadata": {},
   "outputs": [],
   "source": [
    "final_list[0]"
   ]
  },
  {
   "cell_type": "code",
   "execution_count": null,
   "id": "f2cc33ac",
   "metadata": {},
   "outputs": [],
   "source": [
    "final_list[1][1]"
   ]
  },
  {
   "cell_type": "code",
   "execution_count": null,
   "id": "5c6055c0",
   "metadata": {},
   "outputs": [],
   "source": [
    "my_list=[]\n",
    "# Create an empty list"
   ]
  },
  {
   "cell_type": "code",
   "execution_count": null,
   "id": "e4927ec9",
   "metadata": {},
   "outputs": [],
   "source": [
    "my_list"
   ]
  },
  {
   "cell_type": "code",
   "execution_count": null,
   "id": "7301808c",
   "metadata": {},
   "outputs": [],
   "source": [
    "my_list.append(100)                        # Add element at the end of the list"
   ]
  },
  {
   "cell_type": "code",
   "execution_count": null,
   "id": "959804be",
   "metadata": {},
   "outputs": [],
   "source": [
    "my_list"
   ]
  },
  {
   "cell_type": "code",
   "execution_count": null,
   "id": "c15435d6",
   "metadata": {},
   "outputs": [],
   "source": [
    "my_list=my_list+200"
   ]
  },
  {
   "cell_type": "code",
   "execution_count": null,
   "id": "3cd8f7e4",
   "metadata": {},
   "outputs": [],
   "source": [
    "my_list=my_list+[200]                                 # Concatenation of list"
   ]
  },
  {
   "cell_type": "code",
   "execution_count": null,
   "id": "51692fa1",
   "metadata": {},
   "outputs": [],
   "source": [
    "my_list"
   ]
  },
  {
   "cell_type": "code",
   "execution_count": null,
   "id": "7eb9ff25",
   "metadata": {},
   "outputs": [],
   "source": [
    "my_list.pop()                                        # Remove last element from list"
   ]
  },
  {
   "cell_type": "code",
   "execution_count": null,
   "id": "9973a02b",
   "metadata": {},
   "outputs": [],
   "source": [
    "my_list"
   ]
  },
  {
   "cell_type": "code",
   "execution_count": null,
   "id": "c555be41",
   "metadata": {},
   "outputs": [],
   "source": [
    "My_list=[200]*5                                     # Repetition of list elements"
   ]
  },
  {
   "cell_type": "code",
   "execution_count": null,
   "id": "f5b1ae96",
   "metadata": {},
   "outputs": [],
   "source": [
    "My_list"
   ]
  },
  {
   "cell_type": "code",
   "execution_count": null,
   "id": "dc595077",
   "metadata": {},
   "outputs": [],
   "source": [
    "My_list1=[8,7,3,1,-10,7,10,16,9]"
   ]
  },
  {
   "cell_type": "code",
   "execution_count": null,
   "id": "6d3c2654",
   "metadata": {},
   "outputs": [],
   "source": [
    "My_list1.sort()                                #Sorting list in ascending order"
   ]
  },
  {
   "cell_type": "code",
   "execution_count": null,
   "id": "83afb7ea",
   "metadata": {},
   "outputs": [],
   "source": [
    "My_list1"
   ]
  },
  {
   "cell_type": "code",
   "execution_count": null,
   "id": "c9bde6f6",
   "metadata": {},
   "outputs": [],
   "source": [
    "My_list1.sort(reverse=True)                      #Sorting list in descending order"
   ]
  },
  {
   "cell_type": "code",
   "execution_count": null,
   "id": "80e2defd",
   "metadata": {},
   "outputs": [],
   "source": [
    "My_list1"
   ]
  },
  {
   "cell_type": "code",
   "execution_count": null,
   "id": "34f00f38",
   "metadata": {},
   "outputs": [],
   "source": [
    "My_list1.count(7)                               # Counting specific element"
   ]
  },
  {
   "cell_type": "code",
   "execution_count": null,
   "id": "6daff02f",
   "metadata": {},
   "outputs": [],
   "source": [
    "My_list1.index(7)                             # Grabing specific index of an element"
   ]
  },
  {
   "cell_type": "code",
   "execution_count": null,
   "id": "ba8b8a38",
   "metadata": {},
   "outputs": [],
   "source": [
    "My_list1.remove(7)                             # Removing specific element from list"
   ]
  },
  {
   "cell_type": "code",
   "execution_count": null,
   "id": "9c9ee563",
   "metadata": {},
   "outputs": [],
   "source": [
    "My_list1"
   ]
  },
  {
   "cell_type": "code",
   "execution_count": null,
   "id": "5aab3334",
   "metadata": {},
   "outputs": [],
   "source": [
    "len(My_list1)                              # Counting no of elements in the list"
   ]
  },
  {
   "cell_type": "code",
   "execution_count": null,
   "id": "b1ec52ef",
   "metadata": {},
   "outputs": [],
   "source": [
    "My_list1[-1]=0                             # Grabing element with index value"
   ]
  },
  {
   "cell_type": "code",
   "execution_count": null,
   "id": "adfc592b",
   "metadata": {},
   "outputs": [],
   "source": [
    "My_list1"
   ]
  },
  {
   "cell_type": "code",
   "execution_count": null,
   "id": "fbd6bb5f",
   "metadata": {},
   "outputs": [],
   "source": [
    "My_list1.insert(3,\"Mango\")                    # inserting an element into list at specific index"
   ]
  },
  {
   "cell_type": "code",
   "execution_count": null,
   "id": "da5a639d",
   "metadata": {},
   "outputs": [],
   "source": [
    "My_list1"
   ]
  },
  {
   "cell_type": "code",
   "execution_count": null,
   "id": "b43654d9",
   "metadata": {},
   "outputs": [],
   "source": [
    "My_list1[:3]                                # Slicing the list"
   ]
  },
  {
   "cell_type": "code",
   "execution_count": null,
   "id": "59c703d9",
   "metadata": {},
   "outputs": [],
   "source": [
    "My_list1[3:5]"
   ]
  },
  {
   "cell_type": "code",
   "execution_count": null,
   "id": "1985cc9e",
   "metadata": {},
   "outputs": [],
   "source": [
    "My_list1[-1]"
   ]
  },
  {
   "cell_type": "code",
   "execution_count": null,
   "id": "f7f3c528",
   "metadata": {},
   "outputs": [],
   "source": [
    "My_list1[-3]"
   ]
  },
  {
   "cell_type": "code",
   "execution_count": null,
   "id": "6bdf1142",
   "metadata": {},
   "outputs": [],
   "source": [
    "My_list1[-5:]"
   ]
  },
  {
   "cell_type": "code",
   "execution_count": null,
   "id": "a2ad92f5",
   "metadata": {},
   "outputs": [],
   "source": [
    "My_list1[::-1]                            # reversing the order with slicing"
   ]
  },
  {
   "cell_type": "code",
   "execution_count": null,
   "id": "ab752b9b",
   "metadata": {},
   "outputs": [],
   "source": [
    "My_list1"
   ]
  },
  {
   "cell_type": "code",
   "execution_count": null,
   "id": "d44b14c9",
   "metadata": {
    "scrolled": true
   },
   "outputs": [],
   "source": [
    "My_list1[1:8:2]                        # Slicing the list with step value"
   ]
  },
  {
   "cell_type": "code",
   "execution_count": null,
   "id": "4727451b",
   "metadata": {},
   "outputs": [],
   "source": [
    "My_list1.insert(1,\"carrier\")           "
   ]
  },
  {
   "cell_type": "code",
   "execution_count": null,
   "id": "3bf55376",
   "metadata": {},
   "outputs": [],
   "source": [
    "My_list1"
   ]
  },
  {
   "cell_type": "code",
   "execution_count": null,
   "id": "4663f227",
   "metadata": {},
   "outputs": [],
   "source": [
    "del (My_list1[1])\n",
    "My_list1                         # removing the element from specific index"
   ]
  },
  {
   "cell_type": "code",
   "execution_count": null,
   "id": "66978e03",
   "metadata": {},
   "outputs": [],
   "source": [
    "My_list1.index(\"Mango\")              # Searching the index of an element"
   ]
  },
  {
   "cell_type": "code",
   "execution_count": null,
   "id": "66e90196",
   "metadata": {},
   "outputs": [],
   "source": [
    "del (My_list1[3])\n",
    "My_list1"
   ]
  },
  {
   "cell_type": "code",
   "execution_count": null,
   "id": "c1e11c1f",
   "metadata": {},
   "outputs": [],
   "source": [
    "My_list1.pop(4)                        # removing the element from specific index"
   ]
  },
  {
   "cell_type": "code",
   "execution_count": null,
   "id": "f5e562f4",
   "metadata": {},
   "outputs": [],
   "source": [
    "My_list1"
   ]
  },
  {
   "cell_type": "code",
   "execution_count": null,
   "id": "730ce8df",
   "metadata": {},
   "outputs": [],
   "source": [
    "list = [\"John\", \"David\", \"James\", \"Jonathan\"]    \n",
    "for i in list:   \n",
    "    # The i variable will iterate over the elements of the List and contains each element in each iteration.     \n",
    "    print(i)  "
   ]
  },
  {
   "cell_type": "markdown",
   "id": "321a543b",
   "metadata": {},
   "source": [
    "# Tuple"
   ]
  },
  {
   "cell_type": "code",
   "execution_count": null,
   "id": "dc5e11f2",
   "metadata": {},
   "outputs": [],
   "source": [
    "a=(5.6)"
   ]
  },
  {
   "cell_type": "code",
   "execution_count": null,
   "id": "38c4435c",
   "metadata": {},
   "outputs": [],
   "source": [
    "type(a)"
   ]
  },
  {
   "cell_type": "code",
   "execution_count": null,
   "id": "436d6c37",
   "metadata": {},
   "outputs": [],
   "source": [
    "b=(5.6,)"
   ]
  },
  {
   "cell_type": "code",
   "execution_count": null,
   "id": "ae9374fd",
   "metadata": {},
   "outputs": [],
   "source": [
    "type(b)"
   ]
  },
  {
   "cell_type": "code",
   "execution_count": 1,
   "id": "79ae912a",
   "metadata": {},
   "outputs": [],
   "source": [
    "location=(56.5,78.9)    #Geographical Coordinates"
   ]
  },
  {
   "cell_type": "code",
   "execution_count": 2,
   "id": "99c344a2",
   "metadata": {},
   "outputs": [
    {
     "data": {
      "text/plain": [
       "tuple"
      ]
     },
     "execution_count": 2,
     "metadata": {},
     "output_type": "execute_result"
    }
   ],
   "source": [
    "type(location)"
   ]
  },
  {
   "cell_type": "code",
   "execution_count": 3,
   "id": "9d276210",
   "metadata": {},
   "outputs": [
    {
     "data": {
      "text/plain": [
       "56.5"
      ]
     },
     "execution_count": 3,
     "metadata": {},
     "output_type": "execute_result"
    }
   ],
   "source": [
    "location[0]"
   ]
  },
  {
   "cell_type": "code",
   "execution_count": 4,
   "id": "05f39731",
   "metadata": {},
   "outputs": [],
   "source": [
    "color_code=(110,25,255)   #RGB color Codes"
   ]
  },
  {
   "cell_type": "code",
   "execution_count": 7,
   "id": "1c3fb1a7",
   "metadata": {},
   "outputs": [],
   "source": [
    "green_col_code=color_code[1:]                    # Grabing an element with index"
   ]
  },
  {
   "cell_type": "code",
   "execution_count": 8,
   "id": "8252dec1",
   "metadata": {},
   "outputs": [
    {
     "data": {
      "text/plain": [
       "(25, 255)"
      ]
     },
     "execution_count": 8,
     "metadata": {},
     "output_type": "execute_result"
    }
   ],
   "source": [
    "green_col_code"
   ]
  },
  {
   "cell_type": "code",
   "execution_count": 26,
   "id": "fe0e2d15",
   "metadata": {},
   "outputs": [],
   "source": [
    "color_code_1=[110,25,255]"
   ]
  },
  {
   "cell_type": "code",
   "execution_count": 28,
   "id": "56beef3f",
   "metadata": {},
   "outputs": [],
   "source": [
    "color_code_1[1]=15"
   ]
  },
  {
   "cell_type": "code",
   "execution_count": 12,
   "id": "1e9b00f0",
   "metadata": {},
   "outputs": [
    {
     "data": {
      "text/plain": [
       "[110, 15, 255]"
      ]
     },
     "execution_count": 12,
     "metadata": {},
     "output_type": "execute_result"
    }
   ],
   "source": [
    "color_code_1"
   ]
  },
  {
   "cell_type": "code",
   "execution_count": 9,
   "id": "c737c8d4",
   "metadata": {},
   "outputs": [
    {
     "ename": "TypeError",
     "evalue": "'tuple' object does not support item assignment",
     "output_type": "error",
     "traceback": [
      "\u001b[1;31m---------------------------------------------------------------------------\u001b[0m",
      "\u001b[1;31mTypeError\u001b[0m                                 Traceback (most recent call last)",
      "\u001b[1;32m<ipython-input-9-6bcd5966fadf>\u001b[0m in \u001b[0;36m<module>\u001b[1;34m\u001b[0m\n\u001b[1;32m----> 1\u001b[1;33m \u001b[0mcolor_code\u001b[0m\u001b[1;33m[\u001b[0m\u001b[1;36m1\u001b[0m\u001b[1;33m]\u001b[0m\u001b[1;33m=\u001b[0m\u001b[1;36m15\u001b[0m\u001b[1;33m\u001b[0m\u001b[1;33m\u001b[0m\u001b[0m\n\u001b[0m",
      "\u001b[1;31mTypeError\u001b[0m: 'tuple' object does not support item assignment"
     ]
    }
   ],
   "source": [
    "color_code[1]=15"
   ]
  },
  {
   "cell_type": "code",
   "execution_count": 13,
   "id": "1f16f073",
   "metadata": {},
   "outputs": [
    {
     "name": "stdout",
     "output_type": "stream",
     "text": [
      "(2, 3, 4, 5, 6, 7)\n"
     ]
    }
   ],
   "source": [
    "tuple = (1,2,3,4,5,6,7)  \n",
    "#element 1 to end  \n",
    "print(tuple[1:])  \n"
   ]
  },
  {
   "cell_type": "code",
   "execution_count": 14,
   "id": "05c28daa",
   "metadata": {},
   "outputs": [
    {
     "name": "stdout",
     "output_type": "stream",
     "text": [
      "(1, 2, 3, 4)\n"
     ]
    }
   ],
   "source": [
    "#element 0 to 3 element   \n",
    "print(tuple[:4])  \n"
   ]
  },
  {
   "cell_type": "code",
   "execution_count": 15,
   "id": "f2773300",
   "metadata": {},
   "outputs": [
    {
     "name": "stdout",
     "output_type": "stream",
     "text": [
      "(2, 3, 4, 5)\n"
     ]
    }
   ],
   "source": [
    "#element 1 to 4 element  \n",
    "print(tuple[1:5])   \n"
   ]
  },
  {
   "cell_type": "code",
   "execution_count": 16,
   "id": "6d6185de",
   "metadata": {},
   "outputs": [
    {
     "name": "stdout",
     "output_type": "stream",
     "text": [
      "(1, 3, 5)\n"
     ]
    }
   ],
   "source": [
    "# element 0 to 6 and take step of 2  \n",
    "print(tuple[0:6:2]) "
   ]
  },
  {
   "cell_type": "code",
   "execution_count": 22,
   "id": "fb6e4d79",
   "metadata": {},
   "outputs": [
    {
     "data": {
      "text/plain": [
       "5"
      ]
     },
     "execution_count": 22,
     "metadata": {},
     "output_type": "execute_result"
    }
   ],
   "source": [
    "tuple1 = (1, 2, 3,\"Mango\", 4, 5)    \n",
    "tuple1[-1]  \n"
   ]
  },
  {
   "cell_type": "code",
   "execution_count": 23,
   "id": "be1dc0c5",
   "metadata": {},
   "outputs": [
    {
     "data": {
      "text/plain": [
       "3"
      ]
     },
     "execution_count": 23,
     "metadata": {},
     "output_type": "execute_result"
    }
   ],
   "source": [
    "tuple1[-4]  \n",
    " "
   ]
  },
  {
   "cell_type": "code",
   "execution_count": 24,
   "id": "5f277e31",
   "metadata": {},
   "outputs": [
    {
     "data": {
      "text/plain": [
       "('Mango', 4, 5)"
      ]
     },
     "execution_count": 24,
     "metadata": {},
     "output_type": "execute_result"
    }
   ],
   "source": [
    "tuple1[-3:]  "
   ]
  },
  {
   "cell_type": "code",
   "execution_count": 25,
   "id": "22a2b5a1",
   "metadata": {},
   "outputs": [
    {
     "data": {
      "text/plain": [
       "3"
      ]
     },
     "execution_count": 25,
     "metadata": {},
     "output_type": "execute_result"
    }
   ],
   "source": [
    "tuple1.index(\"Mango\")"
   ]
  },
  {
   "cell_type": "code",
   "execution_count": null,
   "id": "4a214cfb",
   "metadata": {},
   "outputs": [],
   "source": []
  },
  {
   "cell_type": "markdown",
   "id": "e8e20ca3",
   "metadata": {},
   "source": [
    "# SET"
   ]
  },
  {
   "cell_type": "code",
   "execution_count": 29,
   "id": "bd336ffc",
   "metadata": {},
   "outputs": [
    {
     "name": "stdout",
     "output_type": "stream",
     "text": [
      "{'Monday', 'Tuesday', 'Saturday', 'Wednesday', 'Sunday', 'Friday', 'Thursday'}\n"
     ]
    }
   ],
   "source": [
    "Days = {\"Monday\", \"Tuesday\", \"Wednesday\", \"Thursday\", \"Friday\", \"Saturday\", \"Sunday\"}    \n",
    "print(Days)                                                # Defining the set"
   ]
  },
  {
   "cell_type": "code",
   "execution_count": 30,
   "id": "f66ccb88",
   "metadata": {},
   "outputs": [
    {
     "data": {
      "text/plain": [
       "set"
      ]
     },
     "execution_count": 30,
     "metadata": {},
     "output_type": "execute_result"
    }
   ],
   "source": [
    "type(Days)"
   ]
  },
  {
   "cell_type": "code",
   "execution_count": 31,
   "id": "dc77affd",
   "metadata": {},
   "outputs": [
    {
     "name": "stdout",
     "output_type": "stream",
     "text": [
      "{'Monday', 'Tuesday', 'Saturday', 'Wednesday', 'Sunday', 'Friday', 'Thursday'}\n"
     ]
    }
   ],
   "source": [
    "Days = set([\"Monday\", \"Tuesday\", \"Wednesday\", \"Thursday\", \"Friday\", \"Saturday\", \"Sunday\"])    \n",
    "print(Days)                                                   # Defining the set"
   ]
  },
  {
   "cell_type": "code",
   "execution_count": 32,
   "id": "b3cbb032",
   "metadata": {},
   "outputs": [
    {
     "data": {
      "text/plain": [
       "set"
      ]
     },
     "execution_count": 32,
     "metadata": {},
     "output_type": "execute_result"
    }
   ],
   "source": [
    "type(Days)"
   ]
  },
  {
   "cell_type": "code",
   "execution_count": 33,
   "id": "c64de3e1",
   "metadata": {},
   "outputs": [],
   "source": [
    "long_list=[1,3,2,1,2,3,4,5,6,7,8,9,8,7,5,3]        #Set only contains unique values"
   ]
  },
  {
   "cell_type": "code",
   "execution_count": 34,
   "id": "fcbc1884",
   "metadata": {},
   "outputs": [],
   "source": [
    "short_list=set(long_list)"
   ]
  },
  {
   "cell_type": "code",
   "execution_count": 35,
   "id": "8268e304",
   "metadata": {},
   "outputs": [
    {
     "data": {
      "text/plain": [
       "{1, 2, 3, 4, 5, 6, 7, 8, 9}"
      ]
     },
     "execution_count": 35,
     "metadata": {},
     "output_type": "execute_result"
    }
   ],
   "source": [
    "short_list"
   ]
  },
  {
   "cell_type": "code",
   "execution_count": 36,
   "id": "665aceac",
   "metadata": {},
   "outputs": [],
   "source": [
    "short_set=short_list"
   ]
  },
  {
   "cell_type": "code",
   "execution_count": 37,
   "id": "f1316772",
   "metadata": {},
   "outputs": [],
   "source": [
    "short_set.remove(2)                       # remove a specific element"
   ]
  },
  {
   "cell_type": "code",
   "execution_count": 38,
   "id": "ad6a2c99",
   "metadata": {},
   "outputs": [
    {
     "data": {
      "text/plain": [
       "{1, 3, 4, 5, 6, 7, 8, 9}"
      ]
     },
     "execution_count": 38,
     "metadata": {},
     "output_type": "execute_result"
    }
   ],
   "source": [
    "short_set"
   ]
  },
  {
   "cell_type": "code",
   "execution_count": 39,
   "id": "10b28552",
   "metadata": {},
   "outputs": [],
   "source": [
    "short_set.add(10)                        # adding specific element"
   ]
  },
  {
   "cell_type": "code",
   "execution_count": 40,
   "id": "127cc6d7",
   "metadata": {},
   "outputs": [
    {
     "data": {
      "text/plain": [
       "{1, 3, 4, 5, 6, 7, 8, 9, 10}"
      ]
     },
     "execution_count": 40,
     "metadata": {},
     "output_type": "execute_result"
    }
   ],
   "source": [
    "short_set"
   ]
  },
  {
   "cell_type": "code",
   "execution_count": 41,
   "id": "7bedbf92",
   "metadata": {},
   "outputs": [
    {
     "data": {
      "text/plain": [
       "{1, 3, 4, 5, 6, 7, 8, 9, 10}"
      ]
     },
     "execution_count": 41,
     "metadata": {},
     "output_type": "execute_result"
    }
   ],
   "source": [
    "short_set.add(10)\n",
    "short_set"
   ]
  },
  {
   "cell_type": "code",
   "execution_count": 42,
   "id": "27ba9343",
   "metadata": {},
   "outputs": [],
   "source": [
    "set1={1,2,5,5}"
   ]
  },
  {
   "cell_type": "code",
   "execution_count": 43,
   "id": "4ccdb6dd",
   "metadata": {},
   "outputs": [
    {
     "data": {
      "text/plain": [
       "{1, 2, 5}"
      ]
     },
     "execution_count": 43,
     "metadata": {},
     "output_type": "execute_result"
    }
   ],
   "source": [
    "set1"
   ]
  },
  {
   "cell_type": "code",
   "execution_count": 44,
   "id": "41dfc2f2",
   "metadata": {},
   "outputs": [],
   "source": [
    "set2={1,2,3}"
   ]
  },
  {
   "cell_type": "code",
   "execution_count": 45,
   "id": "b54fb685",
   "metadata": {},
   "outputs": [
    {
     "data": {
      "text/plain": [
       "{1, 2}"
      ]
     },
     "execution_count": 45,
     "metadata": {},
     "output_type": "execute_result"
    }
   ],
   "source": [
    "set1 & set2                    # intersection of set"
   ]
  },
  {
   "cell_type": "code",
   "execution_count": 46,
   "id": "4ce5e99d",
   "metadata": {},
   "outputs": [
    {
     "data": {
      "text/plain": [
       "{1, 2, 3, 5}"
      ]
     },
     "execution_count": 46,
     "metadata": {},
     "output_type": "execute_result"
    }
   ],
   "source": [
    "set1 | set2                  # union of set"
   ]
  },
  {
   "cell_type": "code",
   "execution_count": 47,
   "id": "08505bcb",
   "metadata": {},
   "outputs": [
    {
     "data": {
      "text/plain": [
       "{1, 2, 3, 5}"
      ]
     },
     "execution_count": 47,
     "metadata": {},
     "output_type": "execute_result"
    }
   ],
   "source": [
    "set1.union(set2)"
   ]
  },
  {
   "cell_type": "code",
   "execution_count": null,
   "id": "bd9e526a",
   "metadata": {},
   "outputs": [],
   "source": [
    "Months = set([\"January\",\"February\", \"March\", \"April\", \"May\", \"June\"])    "
   ]
  },
  {
   "cell_type": "code",
   "execution_count": null,
   "id": "f3a5c012",
   "metadata": {},
   "outputs": [],
   "source": [
    "Months"
   ]
  },
  {
   "cell_type": "code",
   "execution_count": null,
   "id": "84453383",
   "metadata": {},
   "outputs": [],
   "source": [
    "print(Months)"
   ]
  },
  {
   "cell_type": "code",
   "execution_count": null,
   "id": "98346719",
   "metadata": {},
   "outputs": [],
   "source": [
    "Months[0]"
   ]
  },
  {
   "cell_type": "code",
   "execution_count": null,
   "id": "02c600d8",
   "metadata": {},
   "outputs": [],
   "source": [
    "Months.add(\"July\")"
   ]
  },
  {
   "cell_type": "code",
   "execution_count": null,
   "id": "682e3cb3",
   "metadata": {},
   "outputs": [],
   "source": [
    "Months"
   ]
  },
  {
   "cell_type": "code",
   "execution_count": null,
   "id": "b37e918d",
   "metadata": {},
   "outputs": [],
   "source": [
    "Months.add(\"August\",\"September\")"
   ]
  },
  {
   "cell_type": "code",
   "execution_count": null,
   "id": "c384bd9c",
   "metadata": {},
   "outputs": [],
   "source": [
    "Months.add([\"August\",\"September\"])"
   ]
  },
  {
   "cell_type": "code",
   "execution_count": null,
   "id": "d2c42cae",
   "metadata": {},
   "outputs": [],
   "source": [
    "Months.update([\"August\",\"September\"])"
   ]
  },
  {
   "cell_type": "code",
   "execution_count": null,
   "id": "b28cf267",
   "metadata": {},
   "outputs": [],
   "source": [
    "Months"
   ]
  },
  {
   "cell_type": "code",
   "execution_count": null,
   "id": "080e4b94",
   "metadata": {},
   "outputs": [],
   "source": [
    "Months.discard(\"January\")"
   ]
  },
  {
   "cell_type": "code",
   "execution_count": null,
   "id": "28bdd314",
   "metadata": {},
   "outputs": [],
   "source": [
    "Months"
   ]
  },
  {
   "cell_type": "code",
   "execution_count": null,
   "id": "05d12ff9",
   "metadata": {},
   "outputs": [],
   "source": [
    "Months.discard([\"August\",\"September\"])"
   ]
  },
  {
   "cell_type": "code",
   "execution_count": null,
   "id": "3d60f7e0",
   "metadata": {},
   "outputs": [],
   "source": [
    "Months.discard(\"August\",\"September\")"
   ]
  },
  {
   "cell_type": "code",
   "execution_count": null,
   "id": "23099873",
   "metadata": {},
   "outputs": [],
   "source": [
    "Months.remove(\"August\",\"September\")"
   ]
  },
  {
   "cell_type": "code",
   "execution_count": null,
   "id": "b47823d0",
   "metadata": {},
   "outputs": [],
   "source": [
    "Months.remove([\"August\",\"September\"])"
   ]
  },
  {
   "cell_type": "code",
   "execution_count": null,
   "id": "2982021a",
   "metadata": {},
   "outputs": [],
   "source": [
    "Months.remove(\"August\")"
   ]
  },
  {
   "cell_type": "code",
   "execution_count": null,
   "id": "f8b22726",
   "metadata": {},
   "outputs": [],
   "source": [
    "Months"
   ]
  },
  {
   "cell_type": "code",
   "execution_count": null,
   "id": "0e6bdf48",
   "metadata": {},
   "outputs": [],
   "source": [
    "Months.pop(\"February\")"
   ]
  },
  {
   "cell_type": "code",
   "execution_count": null,
   "id": "9b5d0761",
   "metadata": {},
   "outputs": [],
   "source": [
    "Months.pop()"
   ]
  },
  {
   "cell_type": "code",
   "execution_count": null,
   "id": "0b2b9ba3",
   "metadata": {},
   "outputs": [],
   "source": [
    "Months"
   ]
  },
  {
   "cell_type": "code",
   "execution_count": null,
   "id": "12af8b8b",
   "metadata": {},
   "outputs": [],
   "source": [
    "Employee_details = {\"Name\":\"John\", \"Country\":\"USA\", \"ID\":101}     "
   ]
  },
  {
   "cell_type": "code",
   "execution_count": null,
   "id": "5897e9fb",
   "metadata": {},
   "outputs": [],
   "source": [
    "type(Employee_details)"
   ]
  },
  {
   "cell_type": "code",
   "execution_count": null,
   "id": "b4929805",
   "metadata": {},
   "outputs": [],
   "source": [
    "Frozen_set=frozenset(Employee_details)"
   ]
  },
  {
   "cell_type": "code",
   "execution_count": null,
   "id": "4eb724b8",
   "metadata": {},
   "outputs": [],
   "source": [
    "print(Frozen_set)"
   ]
  },
  {
   "cell_type": "code",
   "execution_count": null,
   "id": "f329488e",
   "metadata": {},
   "outputs": [],
   "source": [
    "Days1 = {\"Monday\",  \"Tuesday\", \"Wednesday\", \"Thursday\"}    \n",
    "Days2 = {\"Monday\", \"Tuesday\", \"Sunday\"}    \n",
    "print(Days1-Days2)"
   ]
  },
  {
   "cell_type": "code",
   "execution_count": null,
   "id": "c828c5fe",
   "metadata": {},
   "outputs": [],
   "source": [
    "Days1 = {\"Monday\",  \"Tuesday\", \"Wednesday\", \"Thursday\"}    \n",
    "Days2 = {\"Monday\", \"Tuesday\", \"Sunday\"}    \n",
    "print(Days1.difference(Days2))"
   ]
  },
  {
   "cell_type": "code",
   "execution_count": null,
   "id": "d5cede33",
   "metadata": {},
   "outputs": [],
   "source": [
    "a = {1,2,3,4,5,6}  \n",
    "b = {1,2,9,8,10}  \n",
    "c = a^b                      #symmetric_difference\n",
    "print(c)  "
   ]
  },
  {
   "cell_type": "code",
   "execution_count": null,
   "id": "84f18cde",
   "metadata": {},
   "outputs": [],
   "source": []
  },
  {
   "cell_type": "code",
   "execution_count": null,
   "id": "15c42c72",
   "metadata": {},
   "outputs": [],
   "source": []
  },
  {
   "cell_type": "markdown",
   "id": "931d111e",
   "metadata": {},
   "source": [
    "#  Exercise 2"
   ]
  },
  {
   "cell_type": "code",
   "execution_count": null,
   "id": "dd35c1bc",
   "metadata": {},
   "outputs": [],
   "source": [
    "test1={1.0,\"Hello\",(1,2,3)}"
   ]
  },
  {
   "cell_type": "code",
   "execution_count": null,
   "id": "5557175c",
   "metadata": {},
   "outputs": [],
   "source": [
    "test1"
   ]
  },
  {
   "cell_type": "code",
   "execution_count": null,
   "id": "4d316b4a",
   "metadata": {},
   "outputs": [],
   "source": [
    "test2={1.0,\"Hello\",(1,2,3),[1,4]}"
   ]
  },
  {
   "cell_type": "code",
   "execution_count": null,
   "id": "3f91862f",
   "metadata": {},
   "outputs": [],
   "source": [
    "my_set=set([1,2,3,4])"
   ]
  },
  {
   "cell_type": "code",
   "execution_count": null,
   "id": "1cff4012",
   "metadata": {},
   "outputs": [],
   "source": [
    "my_set"
   ]
  },
  {
   "cell_type": "code",
   "execution_count": null,
   "id": "51587ee5",
   "metadata": {},
   "outputs": [],
   "source": [
    "1 in my_set"
   ]
  },
  {
   "cell_type": "code",
   "execution_count": null,
   "id": "985b888f",
   "metadata": {},
   "outputs": [],
   "source": [
    "5 in my_set"
   ]
  },
  {
   "cell_type": "code",
   "execution_count": null,
   "id": "61dea74e",
   "metadata": {},
   "outputs": [],
   "source": [
    "my_set.update([4,5],{1,6,8,7})"
   ]
  },
  {
   "cell_type": "code",
   "execution_count": null,
   "id": "048622eb",
   "metadata": {},
   "outputs": [],
   "source": [
    "my_set"
   ]
  },
  {
   "cell_type": "code",
   "execution_count": null,
   "id": "2079b010",
   "metadata": {},
   "outputs": [],
   "source": [
    "my_set.clear()"
   ]
  },
  {
   "cell_type": "code",
   "execution_count": null,
   "id": "02496c2e",
   "metadata": {},
   "outputs": [],
   "source": [
    "my_set"
   ]
  },
  {
   "cell_type": "code",
   "execution_count": null,
   "id": "bd58fbba",
   "metadata": {},
   "outputs": [],
   "source": [
    "a={1,2,3,30,300}"
   ]
  },
  {
   "cell_type": "code",
   "execution_count": null,
   "id": "86677b27",
   "metadata": {},
   "outputs": [],
   "source": [
    "b={10,20,30,40}"
   ]
  },
  {
   "cell_type": "code",
   "execution_count": null,
   "id": "fc0c6c39",
   "metadata": {},
   "outputs": [],
   "source": [
    "a-b"
   ]
  },
  {
   "cell_type": "code",
   "execution_count": null,
   "id": "62d261ab",
   "metadata": {},
   "outputs": [],
   "source": [
    "a^b"
   ]
  },
  {
   "cell_type": "code",
   "execution_count": null,
   "id": "a357294f",
   "metadata": {},
   "outputs": [],
   "source": [
    "a.pop()"
   ]
  },
  {
   "cell_type": "code",
   "execution_count": null,
   "id": "b68099cd",
   "metadata": {},
   "outputs": [],
   "source": [
    "x=frozenset([\"foo\",\"bar\",\"baz\"])"
   ]
  },
  {
   "cell_type": "code",
   "execution_count": null,
   "id": "83b9a179",
   "metadata": {},
   "outputs": [],
   "source": [
    "x"
   ]
  },
  {
   "cell_type": "code",
   "execution_count": null,
   "id": "968220d8",
   "metadata": {},
   "outputs": [],
   "source": [
    "x.add(\"qux\")"
   ]
  },
  {
   "cell_type": "code",
   "execution_count": null,
   "id": "278da37e",
   "metadata": {},
   "outputs": [],
   "source": [
    "x.pop()"
   ]
  },
  {
   "cell_type": "code",
   "execution_count": null,
   "id": "3b24a68b",
   "metadata": {},
   "outputs": [],
   "source": []
  },
  {
   "cell_type": "code",
   "execution_count": null,
   "id": "3cd980b8",
   "metadata": {},
   "outputs": [],
   "source": []
  },
  {
   "cell_type": "markdown",
   "id": "89257eb0",
   "metadata": {},
   "source": [
    "# Dictionary"
   ]
  },
  {
   "cell_type": "code",
   "execution_count": 48,
   "id": "c9b14b14",
   "metadata": {},
   "outputs": [],
   "source": [
    "age_lookup={}"
   ]
  },
  {
   "cell_type": "code",
   "execution_count": 49,
   "id": "1986e9d6",
   "metadata": {},
   "outputs": [
    {
     "data": {
      "text/plain": [
       "{}"
      ]
     },
     "execution_count": 49,
     "metadata": {},
     "output_type": "execute_result"
    }
   ],
   "source": [
    "age_lookup"
   ]
  },
  {
   "cell_type": "code",
   "execution_count": 50,
   "id": "86cc2a38",
   "metadata": {},
   "outputs": [],
   "source": [
    "age_lookup={\"Foo\":33,\"Bar\":24,\"Martin\":24}"
   ]
  },
  {
   "cell_type": "code",
   "execution_count": 51,
   "id": "5dc05204",
   "metadata": {},
   "outputs": [
    {
     "data": {
      "text/plain": [
       "{'Foo': 33, 'Bar': 24, 'Martin': 24}"
      ]
     },
     "execution_count": 51,
     "metadata": {},
     "output_type": "execute_result"
    }
   ],
   "source": [
    "age_lookup"
   ]
  },
  {
   "cell_type": "code",
   "execution_count": 52,
   "id": "988236c2",
   "metadata": {},
   "outputs": [],
   "source": [
    "Martin_age_lookup=age_lookup[\"Martin\"]"
   ]
  },
  {
   "cell_type": "code",
   "execution_count": 53,
   "id": "e299f8fc",
   "metadata": {},
   "outputs": [
    {
     "data": {
      "text/plain": [
       "24"
      ]
     },
     "execution_count": 53,
     "metadata": {},
     "output_type": "execute_result"
    }
   ],
   "source": [
    "Martin_age_lookup"
   ]
  },
  {
   "cell_type": "code",
   "execution_count": 54,
   "id": "986da98d",
   "metadata": {},
   "outputs": [],
   "source": [
    "input_list=[[\"T'shirt\",500],[\"Watch\",900],[\"Hat\",200]]"
   ]
  },
  {
   "cell_type": "code",
   "execution_count": 55,
   "id": "5ec96c84",
   "metadata": {},
   "outputs": [
    {
     "data": {
      "text/plain": [
       "[[\"T'shirt\", 500], ['Watch', 900], ['Hat', 200]]"
      ]
     },
     "execution_count": 55,
     "metadata": {},
     "output_type": "execute_result"
    }
   ],
   "source": [
    "input_list"
   ]
  },
  {
   "cell_type": "code",
   "execution_count": 56,
   "id": "5e2699bb",
   "metadata": {},
   "outputs": [],
   "source": [
    "price_lookup=dict(input_list)"
   ]
  },
  {
   "cell_type": "code",
   "execution_count": 57,
   "id": "d2dacbfb",
   "metadata": {},
   "outputs": [
    {
     "data": {
      "text/plain": [
       "{\"T'shirt\": 500, 'Watch': 900, 'Hat': 200}"
      ]
     },
     "execution_count": 57,
     "metadata": {},
     "output_type": "execute_result"
    }
   ],
   "source": [
    "price_lookup"
   ]
  },
  {
   "cell_type": "code",
   "execution_count": 58,
   "id": "12181c87",
   "metadata": {},
   "outputs": [
    {
     "data": {
      "text/plain": [
       "dict_keys([\"T'shirt\", 'Watch', 'Hat'])"
      ]
     },
     "execution_count": 58,
     "metadata": {},
     "output_type": "execute_result"
    }
   ],
   "source": [
    "price_lookup.keys()"
   ]
  },
  {
   "cell_type": "code",
   "execution_count": 59,
   "id": "b0526d35",
   "metadata": {},
   "outputs": [
    {
     "data": {
      "text/plain": [
       "dict_values([500, 900, 200])"
      ]
     },
     "execution_count": 59,
     "metadata": {},
     "output_type": "execute_result"
    }
   ],
   "source": [
    "price_lookup.values()"
   ]
  },
  {
   "cell_type": "code",
   "execution_count": 60,
   "id": "cf7ffbac",
   "metadata": {},
   "outputs": [
    {
     "data": {
      "text/plain": [
       "900"
      ]
     },
     "execution_count": 60,
     "metadata": {},
     "output_type": "execute_result"
    }
   ],
   "source": [
    "price_lookup[\"Watch\"]"
   ]
  },
  {
   "cell_type": "code",
   "execution_count": 61,
   "id": "edf3de7e",
   "metadata": {},
   "outputs": [
    {
     "data": {
      "text/plain": [
       "200"
      ]
     },
     "execution_count": 61,
     "metadata": {},
     "output_type": "execute_result"
    }
   ],
   "source": [
    "price_lookup[\"Hat\"]"
   ]
  },
  {
   "cell_type": "code",
   "execution_count": 62,
   "id": "4776020d",
   "metadata": {},
   "outputs": [],
   "source": [
    "new_lookup={}"
   ]
  },
  {
   "cell_type": "code",
   "execution_count": 63,
   "id": "7e616311",
   "metadata": {},
   "outputs": [],
   "source": [
    "new_lookup[\"FSN1\"]=\"T'shirt\""
   ]
  },
  {
   "cell_type": "code",
   "execution_count": 64,
   "id": "d5f26150",
   "metadata": {},
   "outputs": [],
   "source": [
    "new_lookup[\"FSN2\"]=\"Eye_Liner\""
   ]
  },
  {
   "cell_type": "code",
   "execution_count": 65,
   "id": "9d384a3a",
   "metadata": {},
   "outputs": [
    {
     "data": {
      "text/plain": [
       "{'FSN1': \"T'shirt\", 'FSN2': 'Eye_Liner'}"
      ]
     },
     "execution_count": 65,
     "metadata": {},
     "output_type": "execute_result"
    }
   ],
   "source": [
    "new_lookup"
   ]
  },
  {
   "cell_type": "code",
   "execution_count": 66,
   "id": "ab1731aa",
   "metadata": {},
   "outputs": [],
   "source": [
    "fruits=dict(fruit_1=\"banana\",fruit_2=\"Orange\",fruit_3=\"Mango\")  "
   ]
  },
  {
   "cell_type": "code",
   "execution_count": 67,
   "id": "5014aae8",
   "metadata": {},
   "outputs": [
    {
     "data": {
      "text/plain": [
       "{'fruit_1': 'banana', 'fruit_2': 'Orange', 'fruit_3': 'Mango'}"
      ]
     },
     "execution_count": 67,
     "metadata": {},
     "output_type": "execute_result"
    }
   ],
   "source": [
    "fruits"
   ]
  },
  {
   "cell_type": "code",
   "execution_count": 68,
   "id": "902f1e65",
   "metadata": {},
   "outputs": [],
   "source": [
    "new_fruits=fruits.copy()"
   ]
  },
  {
   "cell_type": "code",
   "execution_count": 69,
   "id": "ec09e4b3",
   "metadata": {},
   "outputs": [
    {
     "data": {
      "text/plain": [
       "{'fruit_1': 'banana', 'fruit_2': 'Orange', 'fruit_3': 'Mango'}"
      ]
     },
     "execution_count": 69,
     "metadata": {},
     "output_type": "execute_result"
    }
   ],
   "source": [
    "new_fruits"
   ]
  },
  {
   "cell_type": "code",
   "execution_count": 70,
   "id": "85ec62c3",
   "metadata": {},
   "outputs": [
    {
     "data": {
      "text/plain": [
       "dict_items([('fruit_1', 'banana'), ('fruit_2', 'Orange'), ('fruit_3', 'Mango')])"
      ]
     },
     "execution_count": 70,
     "metadata": {},
     "output_type": "execute_result"
    }
   ],
   "source": [
    "new_fruits.items()"
   ]
  },
  {
   "cell_type": "code",
   "execution_count": 71,
   "id": "2747bdf8",
   "metadata": {},
   "outputs": [
    {
     "data": {
      "text/plain": [
       "'Orange'"
      ]
     },
     "execution_count": 71,
     "metadata": {},
     "output_type": "execute_result"
    }
   ],
   "source": [
    "new_fruits[\"fruit_2\"]"
   ]
  },
  {
   "cell_type": "code",
   "execution_count": 72,
   "id": "d144f658",
   "metadata": {},
   "outputs": [
    {
     "data": {
      "text/plain": [
       "'Orange'"
      ]
     },
     "execution_count": 72,
     "metadata": {},
     "output_type": "execute_result"
    }
   ],
   "source": [
    "new_fruits.get(\"fruit_2\")"
   ]
  },
  {
   "cell_type": "code",
   "execution_count": 73,
   "id": "60b51000",
   "metadata": {},
   "outputs": [],
   "source": [
    "new_fruits[\"fruit_1\"]=\"Apple\"    "
   ]
  },
  {
   "cell_type": "code",
   "execution_count": 74,
   "id": "bbadf203",
   "metadata": {},
   "outputs": [
    {
     "data": {
      "text/plain": [
       "{'fruit_1': 'Apple', 'fruit_2': 'Orange', 'fruit_3': 'Mango'}"
      ]
     },
     "execution_count": 74,
     "metadata": {},
     "output_type": "execute_result"
    }
   ],
   "source": [
    "new_fruits"
   ]
  },
  {
   "cell_type": "code",
   "execution_count": 75,
   "id": "64f8bb9f",
   "metadata": {},
   "outputs": [],
   "source": [
    "new_fruits[\"fruit_4\"]=\"Cherry\"    "
   ]
  },
  {
   "cell_type": "code",
   "execution_count": 76,
   "id": "812b2216",
   "metadata": {},
   "outputs": [
    {
     "data": {
      "text/plain": [
       "{'fruit_1': 'Apple',\n",
       " 'fruit_2': 'Orange',\n",
       " 'fruit_3': 'Mango',\n",
       " 'fruit_4': 'Cherry'}"
      ]
     },
     "execution_count": 76,
     "metadata": {},
     "output_type": "execute_result"
    }
   ],
   "source": [
    "new_fruits"
   ]
  },
  {
   "cell_type": "code",
   "execution_count": 77,
   "id": "1b4da110",
   "metadata": {},
   "outputs": [
    {
     "data": {
      "text/plain": [
       "'Cherry'"
      ]
     },
     "execution_count": 77,
     "metadata": {},
     "output_type": "execute_result"
    }
   ],
   "source": [
    "new_fruits.pop(\"fruit_4\")                          # to remove specific key-value pair"
   ]
  },
  {
   "cell_type": "code",
   "execution_count": 78,
   "id": "30f5277c",
   "metadata": {},
   "outputs": [
    {
     "data": {
      "text/plain": [
       "{'fruit_1': 'Apple', 'fruit_2': 'Orange', 'fruit_3': 'Mango'}"
      ]
     },
     "execution_count": 78,
     "metadata": {},
     "output_type": "execute_result"
    }
   ],
   "source": [
    "new_fruits"
   ]
  },
  {
   "cell_type": "code",
   "execution_count": 79,
   "id": "c5766db0",
   "metadata": {},
   "outputs": [],
   "source": [
    "new_fruits.update({\"fruit_4\":\"Lichi\",\"fruit_5\":\"Pinaaple\"})          # to add new dictionary in to old dictionary "
   ]
  },
  {
   "cell_type": "code",
   "execution_count": 80,
   "id": "c763fce7",
   "metadata": {},
   "outputs": [
    {
     "data": {
      "text/plain": [
       "{'fruit_1': 'Apple',\n",
       " 'fruit_2': 'Orange',\n",
       " 'fruit_3': 'Mango',\n",
       " 'fruit_4': 'Lichi',\n",
       " 'fruit_5': 'Pinaaple'}"
      ]
     },
     "execution_count": 80,
     "metadata": {},
     "output_type": "execute_result"
    }
   ],
   "source": [
    "new_fruits"
   ]
  },
  {
   "cell_type": "code",
   "execution_count": null,
   "id": "03662bc8",
   "metadata": {},
   "outputs": [],
   "source": []
  }
 ],
 "metadata": {
  "kernelspec": {
   "display_name": "Python 3",
   "language": "python",
   "name": "python3"
  },
  "language_info": {
   "codemirror_mode": {
    "name": "ipython",
    "version": 3
   },
   "file_extension": ".py",
   "mimetype": "text/x-python",
   "name": "python",
   "nbconvert_exporter": "python",
   "pygments_lexer": "ipython3",
   "version": "3.8.8"
  }
 },
 "nbformat": 4,
 "nbformat_minor": 5
}
