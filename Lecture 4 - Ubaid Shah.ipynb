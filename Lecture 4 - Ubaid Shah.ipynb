{
 "cells": [
  {
   "cell_type": "markdown",
   "id": "004e6d2a",
   "metadata": {},
   "source": [
    "# OOP"
   ]
  },
  {
   "cell_type": "markdown",
   "id": "cd316bd2",
   "metadata": {},
   "source": [
    "Object Oriented Programming"
   ]
  },
  {
   "cell_type": "markdown",
   "id": "5041f2dc",
   "metadata": {},
   "source": [
    "An object has two characteristics:\n",
    "\n",
    "    1. attributes\n",
    "    2. behavior\n",
    "\n",
    "Let's take an example:\n",
    "\n",
    "A parrot is an object, as it has the following properties:\n",
    "\n",
    "    a) name, age, color as attributes\n",
    "    b) singing, dancing as behavior\n"
   ]
  },
  {
   "cell_type": "markdown",
   "id": "66421394",
   "metadata": {},
   "source": [
    "### Class\n",
    "\n",
    "**A class is a blueprint for the object.**\n",
    "\n",
    "We can think of class as a sketch of a parrot with labels. It contains all the details about the name, colors, size etc. Based on these descriptions, we can study about the parrot. Here, a parrot is an object."
   ]
  },
  {
   "cell_type": "code",
   "execution_count": 3,
   "id": "2e96d00b",
   "metadata": {},
   "outputs": [],
   "source": [
    "class Parrot():\n",
    "    pass"
   ]
  },
  {
   "cell_type": "markdown",
   "id": "3162f64f",
   "metadata": {},
   "source": [
    "Here, we use the class keyword to define an empty class Parrot. From class, we construct instances. \n",
    "\n",
    "**An instance is a specific object created from a particular class.**"
   ]
  },
  {
   "cell_type": "markdown",
   "id": "08391b32",
   "metadata": {},
   "source": [
    "### Object\n",
    "\n",
    "An object (instance) is an instantiation of a class. When class is defined, only the description for the object is defined. Therefore, no memory or storage is allocated."
   ]
  },
  {
   "cell_type": "code",
   "execution_count": 4,
   "id": "2d829000",
   "metadata": {},
   "outputs": [],
   "source": [
    "obj=Parrot()"
   ]
  },
  {
   "cell_type": "code",
   "execution_count": null,
   "id": "b6ba876d",
   "metadata": {},
   "outputs": [],
   "source": []
  }
 ],
 "metadata": {
  "kernelspec": {
   "display_name": "Python 3",
   "language": "python",
   "name": "python3"
  },
  "language_info": {
   "codemirror_mode": {
    "name": "ipython",
    "version": 3
   },
   "file_extension": ".py",
   "mimetype": "text/x-python",
   "name": "python",
   "nbconvert_exporter": "python",
   "pygments_lexer": "ipython3",
   "version": "3.8.8"
  }
 },
 "nbformat": 4,
 "nbformat_minor": 5
}
