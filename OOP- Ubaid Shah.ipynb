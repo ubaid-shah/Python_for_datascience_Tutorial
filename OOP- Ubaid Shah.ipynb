{
 "cells": [
  {
   "cell_type": "markdown",
   "id": "51781efd",
   "metadata": {},
   "source": [
    "In Python, object-oriented Programming (OOPs) is a programming paradigm that uses objects and classes in programming. It aims to implement real-world entities like inheritance, polymorphisms, encapsulation, etc. in the programming. The main concept of OOPs is to bind the data and the functions that work on that together as a single unit so that no other part of the code can access this data. \n",
    "\n",
    "## Main Concepts of Object-Oriented Programming (OOPs) \n",
    "\n",
    "    Class\n",
    "    Objects\n",
    "    Polymorphism\n",
    "    Encapsulation\n",
    "    Inheritance\n",
    "    \n",
    "    \n",
    "### Class \n",
    "\n",
    "A class is a collection of objects. A class contains the blueprints or the prototype from which the objects are being created. It is a logical entity that contains some attributes and methods. \n",
    "\n",
    "**Some points on Python class:**  \n",
    "\n",
    "    Classes are created by keyword class.\n",
    "    Attributes are the variables that belong to a class.\n",
    "    Attributes are always public and can be accessed using the dot (.) operator. Eg.: Myclass.Myattribute"
   ]
  },
  {
   "cell_type": "raw",
   "id": "ae5208e9",
   "metadata": {},
   "source": [
    "Syntax:\n",
    "    \n",
    "    class ClassName:\n",
    "       # Statement-1\n",
    "       .\n",
    "       .\n",
    "       .\n",
    "       # Statement-N"
   ]
  },
  {
   "cell_type": "code",
   "execution_count": 1,
   "id": "bef5e74e",
   "metadata": {},
   "outputs": [],
   "source": [
    "class Python_Lecture:\n",
    "    pass"
   ]
  },
  {
   "cell_type": "code",
   "execution_count": 2,
   "id": "a97c60e8",
   "metadata": {},
   "outputs": [],
   "source": [
    "class Python_Lecture:\n",
    "    \n",
    "    def listen(self):\n",
    "        print(\"Listen to the trainer carefully and learn the Python\")\n",
    "        \n",
    "    def practice(self):\n",
    "        print(\"Practice the Python coding\")\n",
    "        \n",
    "    "
   ]
  },
  {
   "cell_type": "markdown",
   "id": "d14661e9",
   "metadata": {},
   "source": [
    "### Objects\n",
    "\n",
    "The object is an entity that has a state and behavior associated with it. It may be any real-world object like a mouse, keyboard, chair, table, pen, etc. Integers, strings, floating-point numbers, even arrays, and dictionaries, are all objects. \n",
    "\n",
    "\n",
    "**An object consists of :**\n",
    "\n",
    "    State: It is represented by the attributes of an object. It also reflects the properties of an object.\n",
    "    Behavior: It is represented by the methods of an object. It also reflects the response of an object to other objects.\n",
    "    Identity: It gives a unique name to an object and enables one object to interact with other objects."
   ]
  },
  {
   "cell_type": "raw",
   "id": "fc4da903",
   "metadata": {},
   "source": [
    "Example: Creating an object\n",
    "    \n",
    "    obj=class()\n",
    "    "
   ]
  },
  {
   "cell_type": "code",
   "execution_count": 3,
   "id": "51e73c7c",
   "metadata": {},
   "outputs": [],
   "source": [
    "learning=Python_Lecture()"
   ]
  },
  {
   "cell_type": "code",
   "execution_count": 4,
   "id": "ac59cbda",
   "metadata": {},
   "outputs": [
    {
     "name": "stdout",
     "output_type": "stream",
     "text": [
      "Listen to the trainer carefully and learn the Python\n"
     ]
    }
   ],
   "source": [
    "learning.listen()"
   ]
  },
  {
   "cell_type": "code",
   "execution_count": 5,
   "id": "5d4d7108",
   "metadata": {},
   "outputs": [
    {
     "name": "stdout",
     "output_type": "stream",
     "text": [
      "Practice the Python coding\n"
     ]
    }
   ],
   "source": [
    "learning.practice()"
   ]
  },
  {
   "cell_type": "markdown",
   "id": "4073cbef",
   "metadata": {},
   "source": [
    "### The self  \n",
    "\n",
    "    Class methods must have an extra first parameter in the method definition. We do not give a value for this parameter \n",
    "    when we call the method, Python provides it\n",
    "    If we have a method that takes no arguments, then we still have to have one argument.\n",
    "    \n",
    "    \n",
    "   When we call a method of this object as myobject.method(arg1, arg2), this is automatically converted by Python into MyClass.method(myobject, arg1, arg2) – this is all the special self is about."
   ]
  },
  {
   "cell_type": "code",
   "execution_count": 6,
   "id": "73df5d56",
   "metadata": {},
   "outputs": [],
   "source": [
    "class Python_Lecture:\n",
    "    \n",
    "    def listen(self,name):\n",
    "        \n",
    "        self.name=name\n",
    "        \n",
    "        print(\"Hey {}, Listen to the trainer carefully and learn the Python\".format(self.name))\n",
    "        \n",
    "    def practice(self,language):\n",
    "        \n",
    "        self.language=language\n",
    "        \n",
    "        print(\"Practice the {} coding\".format(self.language))\n",
    "        "
   ]
  },
  {
   "cell_type": "code",
   "execution_count": 7,
   "id": "a9aa6a25",
   "metadata": {},
   "outputs": [],
   "source": [
    "learning=Python_Lecture()"
   ]
  },
  {
   "cell_type": "code",
   "execution_count": 8,
   "id": "0a1123c6",
   "metadata": {},
   "outputs": [
    {
     "name": "stdout",
     "output_type": "stream",
     "text": [
      "Hey Ubaid, Listen to the trainer carefully and learn the Python\n"
     ]
    }
   ],
   "source": [
    "learning.listen(\"Ubaid\")"
   ]
  },
  {
   "cell_type": "code",
   "execution_count": 9,
   "id": "52755411",
   "metadata": {},
   "outputs": [
    {
     "name": "stdout",
     "output_type": "stream",
     "text": [
      "Hey Joy, Listen to the trainer carefully and learn the Python\n"
     ]
    }
   ],
   "source": [
    "learning.listen(\"Joy\")"
   ]
  },
  {
   "cell_type": "code",
   "execution_count": 10,
   "id": "f4e6164b",
   "metadata": {},
   "outputs": [
    {
     "name": "stdout",
     "output_type": "stream",
     "text": [
      "Practice the Python coding\n"
     ]
    }
   ],
   "source": [
    "learning.practice(\"Python\")"
   ]
  },
  {
   "cell_type": "code",
   "execution_count": 11,
   "id": "467dae31",
   "metadata": {},
   "outputs": [
    {
     "name": "stdout",
     "output_type": "stream",
     "text": [
      "Practice the C++ coding\n"
     ]
    }
   ],
   "source": [
    "learning.practice(\"C++\")"
   ]
  },
  {
   "cell_type": "markdown",
   "id": "5d4e58ba",
   "metadata": {},
   "source": [
    "### The __init__ method \n",
    "\n",
    "The __init__ method is similar to constructors in C++ and Java. It is run as soon as an object of a class is instantiated. The method is useful to do any initialization you want to do with your object. \n",
    "\n",
    "Now let us define a class and create some objects using the self and __init__ method."
   ]
  },
  {
   "cell_type": "code",
   "execution_count": 12,
   "id": "d6203458",
   "metadata": {},
   "outputs": [],
   "source": [
    "class Code_Learning:\n",
    "    \n",
    "    def __init__(self,name,language):\n",
    "        \n",
    "        self.name=name\n",
    "        self.language=language\n",
    "    def learning(self):\n",
    "        print(\"Hey {}, Listen to the trainer carefully and learn the coding.\\\n",
    "              \\nPractice the {} coding\".format(self.name,self.language))\n",
    "     "
   ]
  },
  {
   "cell_type": "code",
   "execution_count": 13,
   "id": "9d902f1d",
   "metadata": {},
   "outputs": [
    {
     "name": "stdout",
     "output_type": "stream",
     "text": [
      "Hey Ubaid, Listen to the trainer carefully and learn the coding.              \n",
      "Practice the Java coding\n"
     ]
    }
   ],
   "source": [
    "learning_1=Code_Learning(\"Ubaid\",\"Java\") \n",
    "learning_1.learning()"
   ]
  },
  {
   "cell_type": "markdown",
   "id": "3d782f59",
   "metadata": {},
   "source": [
    "### Inheritance\n",
    "\n",
    "Inheritance is the capability of one class to derive or inherit the properties from another class. The class that derives properties is called the derived class or child class and the class from which the properties are being derived is called the base class or parent class. The benefits of inheritance are:\n",
    "\n",
    "    It represents real-world relationships well.\n",
    "    It provides the reusability of a code. We don’t have to write the same code again and again. Also, it allows us to add more features to a class without modifying it.\n",
    "    It is transitive in nature, which means that if class B inherits from another class A, then all the subclasses of B would automatically inherit from class A."
   ]
  },
  {
   "cell_type": "code",
   "execution_count": 14,
   "id": "6a638837",
   "metadata": {},
   "outputs": [],
   "source": [
    "# Python code to demonstrate how parent constructors are called.\n",
    "\n",
    "# parent class\n",
    "class Person(object):\n",
    "\n",
    "# __init__ is known as the constructor\n",
    "    def __init__(self, name, idnumber):\n",
    "        self.name = name\n",
    "        self.idnumber = idnumber\n",
    "\n",
    "    def display(self):\n",
    "        print(self.name)\n",
    "        print(self.idnumber)\n",
    "\n",
    "    def details(self):\n",
    "        print(\"My name is {}\".format(self.name))\n",
    "        print(\"IdNumber: {}\".format(self.idnumber))\n"
   ]
  },
  {
   "cell_type": "code",
   "execution_count": 15,
   "id": "03d21b3f",
   "metadata": {},
   "outputs": [],
   "source": [
    "# child class\n",
    "class Employee(Person):\n",
    "    def __init__(self, name, idnumber, salary, post):\n",
    "        self.salary = salary\n",
    "        self.post = post\n",
    "\n",
    "# invoking the __init__ of the parent class\n",
    "        Person.__init__(self, name, idnumber)\n",
    "\n",
    "    def details(self):\n",
    "        print(\"My name is {}\".format(self.name))\n",
    "        print(\"IdNumber: {}\".format(self.idnumber))\n",
    "        print(\"Post: {}\".format(self.post))\n",
    "\n",
    "\n",
    "# creation of an object variable or an instance\n",
    "a = Employee('Ubaid', 886012, 200000, \"Trainer\")\n",
    "\n"
   ]
  },
  {
   "cell_type": "code",
   "execution_count": 16,
   "id": "188a0956",
   "metadata": {},
   "outputs": [
    {
     "name": "stdout",
     "output_type": "stream",
     "text": [
      "Ubaid\n",
      "886012\n",
      "My name is Ubaid\n",
      "IdNumber: 886012\n",
      "Post: Trainer\n"
     ]
    }
   ],
   "source": [
    "# calling a function of the class Person using\n",
    "# its instance\n",
    "a.display()\n",
    "a.details()"
   ]
  },
  {
   "cell_type": "markdown",
   "id": "03531399",
   "metadata": {},
   "source": [
    "### Polymorphism\n",
    "\n",
    "Polymorphism simply means having many forms. For example, we need to determine if the given species of birds fly or not, using polymorphism we can do this using a single function."
   ]
  },
  {
   "cell_type": "code",
   "execution_count": 17,
   "id": "e858a85f",
   "metadata": {},
   "outputs": [
    {
     "name": "stdout",
     "output_type": "stream",
     "text": [
      "There are many types of birds.\n",
      "Most of the birds can fly but some cannot.\n",
      "There are many types of birds.\n",
      "Sparrows can fly.\n",
      "There are many types of birds.\n",
      "Ostriches cannot fly.\n"
     ]
    }
   ],
   "source": [
    "class Bird:\n",
    "\n",
    "    def intro(self):\n",
    "        print(\"There are many types of birds.\")\n",
    "\n",
    "    def flight(self):\n",
    "        print(\"Most of the birds can fly but some cannot.\")\n",
    "\n",
    "class sparrow(Bird):\n",
    "\n",
    "    def flight(self):\n",
    "        print(\"Sparrows can fly.\")\n",
    "\n",
    "class ostrich(Bird):\n",
    "\n",
    "    def flight(self):\n",
    "        print(\"Ostriches cannot fly.\")\n",
    "\n",
    "obj_bird = Bird()\n",
    "obj_spr = sparrow()\n",
    "obj_ost = ostrich()\n",
    "\n",
    "obj_bird.intro()\n",
    "obj_bird.flight()\n",
    "\n",
    "obj_spr.intro()\n",
    "obj_spr.flight()\n",
    "\n",
    "obj_ost.intro()\n",
    "obj_ost.flight()\n"
   ]
  },
  {
   "cell_type": "markdown",
   "id": "e3aa2b36",
   "metadata": {},
   "source": [
    "### Encapsulation\n",
    "\n",
    "Encapsulation is one of the fundamental concepts in object-oriented programming (OOP). It describes the idea of wrapping data and the methods that work on data within one unit. This puts restrictions on accessing variables and methods directly and can prevent the accidental modification of data. To prevent accidental change, an object’s variable can only be changed by an object’s method. Those types of variables are known as private variables.\n",
    "\n",
    "A class is an example of encapsulation as it encapsulates all the data that is member functions, variables, etc."
   ]
  },
  {
   "cell_type": "code",
   "execution_count": 18,
   "id": "30c26057",
   "metadata": {},
   "outputs": [
    {
     "name": "stdout",
     "output_type": "stream",
     "text": [
      "Ubaid_Shah\n"
     ]
    }
   ],
   "source": [
    "# Python program to\n",
    "# demonstrate private members\n",
    "\n",
    "# Creating a Base class\n",
    "class Base:\n",
    "    def __init__(self):\n",
    "        self.a = \"Ubaid_Shah\"\n",
    "        self.__c = \"Ubaid_Shah\"\n",
    "\n",
    "# Creating a derived class\n",
    "class Derived(Base):\n",
    "    def __init__(self):\n",
    "\n",
    "# Calling constructor of Base class\n",
    "        Base.__init__(self)\n",
    "        print(\"Calling private member of base class: \")\n",
    "        print(self.__c)\n",
    "\n",
    "\n",
    "# Driver code\n",
    "obj1 = Base()\n",
    "print(obj1.a)\n",
    "\n",
    "# Uncommenting print(obj1.c) will\n",
    "# raise an AttributeError\n",
    "\n",
    "# Uncommenting obj2 = Derived() will\n",
    "# also raise an AtrributeError as\n",
    "# private member of base class\n",
    "# is called inside derived class\n"
   ]
  },
  {
   "cell_type": "code",
   "execution_count": null,
   "id": "51bfc976",
   "metadata": {},
   "outputs": [],
   "source": []
  }
 ],
 "metadata": {
  "kernelspec": {
   "display_name": "Python 3",
   "language": "python",
   "name": "python3"
  },
  "language_info": {
   "codemirror_mode": {
    "name": "ipython",
    "version": 3
   },
   "file_extension": ".py",
   "mimetype": "text/x-python",
   "name": "python",
   "nbconvert_exporter": "python",
   "pygments_lexer": "ipython3",
   "version": "3.8.8"
  }
 },
 "nbformat": 4,
 "nbformat_minor": 5
}
