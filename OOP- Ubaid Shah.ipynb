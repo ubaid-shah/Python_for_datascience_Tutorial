{
 "cells": [
  {
   "cell_type": "markdown",
   "id": "f415961b",
   "metadata": {},
   "source": [
    "In Python, object-oriented Programming (OOPs) is a programming paradigm that uses objects and classes in programming. It aims to implement real-world entities like inheritance, polymorphisms, encapsulation, etc. in the programming. The main concept of OOPs is to bind the data and the functions that work on that together as a single unit so that no other part of the code can access this data. \n",
    "\n",
    "\n",
    "\n",
    "\n",
    "An object has two characteristics:\n",
    "\n",
    "1. attributes\n",
    "2. behavior\n",
    "\n",
    "Let's take an example:\n",
    "\n",
    "A parrot is an object, as it has the following properties:\n",
    "\n",
    "    a) name, age, color as attributes\n",
    "    b) singing, dancing as behavior\n",
    "\n",
    "\n",
    "\n",
    "## Main Concepts of Object-Oriented Programming (OOPs) \n",
    "\n",
    "    Class\n",
    "    Objects\n",
    "    Polymorphism\n",
    "    Encapsulation\n",
    "    Inheritance\n",
    "    \n",
    "    \n",
    "### Class \n",
    "\n",
    "A class is a collection of objects. A class contains the blueprints or the prototype from which the objects are being created. It is a logical entity that contains some attributes and methods. \n",
    "\n",
    "**Some points on Python class:**  \n",
    "\n",
    "    Classes are created by keyword class.\n",
    "    Attributes are the variables that belong to a class.\n",
    "    Attributes are always public and can be accessed using the dot (.) operator. Eg.: Myclass.Myattribute"
   ]
  },
  {
   "cell_type": "raw",
   "id": "cb2c2d7b",
   "metadata": {},
   "source": [
    "Syntax:\n",
    "    \n",
    "    class ClassName:\n",
    "       # Statement-1\n",
    "       .\n",
    "       .\n",
    "       .\n",
    "       # Statement-N"
   ]
  },
  {
   "cell_type": "code",
   "execution_count": 3,
   "id": "ff30bbb5",
   "metadata": {},
   "outputs": [],
   "source": [
    "class Python_Lecture:\n",
    "    pass\n",
    "    "
   ]
  },
  {
   "cell_type": "code",
   "execution_count": 4,
   "id": "9ccadc13",
   "metadata": {},
   "outputs": [],
   "source": [
    "class Python_Lecture:\n",
    "    \n",
    "    def listen(self):\n",
    "        print(\"Listen to the trainer carefully and learn the Python\")\n",
    "        print(2+3)\n",
    "        \n",
    "    def practice(self):\n",
    "        print(\"Practice the Python coding\")\n",
    "        \n",
    "    "
   ]
  },
  {
   "cell_type": "markdown",
   "id": "010f2143",
   "metadata": {},
   "source": [
    "### Objects\n",
    "\n",
    "The object is an entity that has a state and behavior associated with it. It may be any real-world object like a mouse, keyboard, chair, table, pen, etc. Integers, strings, floating-point numbers, even arrays, and dictionaries, are all objects. \n",
    "\n",
    "\n",
    "**An object consists of :**\n",
    "\n",
    "    State: It is represented by the attributes of an object. It also reflects the properties of an object.\n",
    "    Behavior: It is represented by the methods of an object. It also reflects the response of an object to other objects.\n",
    "    Identity: It gives a unique name to an object and enables one object to interact with other objects."
   ]
  },
  {
   "cell_type": "raw",
   "id": "73d3f7a8",
   "metadata": {},
   "source": [
    "Example: Creating an object\n",
    "    \n",
    "    obj=class()\n",
    "    "
   ]
  },
  {
   "cell_type": "code",
   "execution_count": 5,
   "id": "03711c59",
   "metadata": {},
   "outputs": [],
   "source": [
    "learning=Python_Lecture()"
   ]
  },
  {
   "cell_type": "code",
   "execution_count": 6,
   "id": "d34c7a13",
   "metadata": {},
   "outputs": [
    {
     "name": "stdout",
     "output_type": "stream",
     "text": [
      "Listen to the trainer carefully and learn the Python\n",
      "5\n"
     ]
    }
   ],
   "source": [
    "learning.listen()"
   ]
  },
  {
   "cell_type": "code",
   "execution_count": 7,
   "id": "edaac77c",
   "metadata": {},
   "outputs": [
    {
     "name": "stdout",
     "output_type": "stream",
     "text": [
      "Practice the Python coding\n"
     ]
    }
   ],
   "source": [
    "learning.practice()"
   ]
  },
  {
   "cell_type": "markdown",
   "id": "7acefa80",
   "metadata": {},
   "source": [
    "### The self  \n",
    "\n",
    "    Class methods must have an extra first parameter in the method definition. We do not give a value for this parameter \n",
    "    when we call the method, Python provides it\n",
    "    If we have a method that takes no arguments, then we still have to have one argument.\n",
    "    \n",
    "    \n",
    "   When we call a method of this object as myobject.method(arg1, arg2), this is automatically converted by Python into MyClass.method(myobject, arg1, arg2) – this is all the special self is about."
   ]
  },
  {
   "cell_type": "code",
   "execution_count": 8,
   "id": "4114cede",
   "metadata": {},
   "outputs": [],
   "source": [
    "class Python_Lecture:\n",
    "    \n",
    "    def listen(self,name):\n",
    "        \n",
    "        self.name=name\n",
    "        \n",
    "        print(\"Hey {}, Listen to the trainer carefully and learn the Python\".format(self.name))\n",
    "        \n",
    "    def practice(self,language):\n",
    "        \n",
    "        self.language=language\n",
    "        \n",
    "        print(\"Practice the {} coding\".format(self.language))\n",
    "        "
   ]
  },
  {
   "cell_type": "code",
   "execution_count": 9,
   "id": "cdd284f5",
   "metadata": {},
   "outputs": [],
   "source": [
    "learning=Python_Lecture()"
   ]
  },
  {
   "cell_type": "code",
   "execution_count": 11,
   "id": "2ed3c98f",
   "metadata": {},
   "outputs": [
    {
     "name": "stdout",
     "output_type": "stream",
     "text": [
      "Hey Ubaid, Listen to the trainer carefully and learn the Python\n"
     ]
    }
   ],
   "source": [
    "learning.listen(\"Ubaid\")"
   ]
  },
  {
   "cell_type": "code",
   "execution_count": 12,
   "id": "d622cbbe",
   "metadata": {},
   "outputs": [
    {
     "name": "stdout",
     "output_type": "stream",
     "text": [
      "Hey Joy, Listen to the trainer carefully and learn the Python\n"
     ]
    }
   ],
   "source": [
    "learning.listen(\"Joy\")"
   ]
  },
  {
   "cell_type": "code",
   "execution_count": 13,
   "id": "25569c09",
   "metadata": {},
   "outputs": [
    {
     "name": "stdout",
     "output_type": "stream",
     "text": [
      "Practice the Python coding\n"
     ]
    }
   ],
   "source": [
    "learning.practice(\"Python\")"
   ]
  },
  {
   "cell_type": "code",
   "execution_count": 14,
   "id": "517f09ed",
   "metadata": {},
   "outputs": [
    {
     "name": "stdout",
     "output_type": "stream",
     "text": [
      "Practice the C# coding\n"
     ]
    }
   ],
   "source": [
    "learning.practice(\"C#\")"
   ]
  },
  {
   "cell_type": "markdown",
   "id": "903d582c",
   "metadata": {},
   "source": [
    "### The __init__ method \n",
    "\n",
    "The __init__ method is similar to constructors in C++ and Java. It is run as soon as an object of a class is instantiated. The method is useful to do any initialization you want to do with your object. \n",
    "\n",
    "Now let us define a class and create some objects using the self and __init__ method."
   ]
  },
  {
   "cell_type": "code",
   "execution_count": 15,
   "id": "6fa88fe5",
   "metadata": {},
   "outputs": [],
   "source": [
    "class Code_Learning:\n",
    "    \n",
    "    def __init__(self,name,language):\n",
    "        \n",
    "        self.name=name\n",
    "        self.language=language\n",
    "    def learning(self):\n",
    "        print(\"Hey {}, Listen to the trainer carefully and learn the coding.\\\n",
    "              \\nPractice the {} coding\".format(self.name,self.language))\n",
    "     "
   ]
  },
  {
   "cell_type": "code",
   "execution_count": 16,
   "id": "c071aeec",
   "metadata": {},
   "outputs": [
    {
     "name": "stdout",
     "output_type": "stream",
     "text": [
      "Hey Ubaid, Listen to the trainer carefully and learn the coding.              \n",
      "Practice the Java coding\n"
     ]
    }
   ],
   "source": [
    "learning_1=Code_Learning(\"Ubaid\",\"Java\") \n",
    "learning_1.learning()"
   ]
  },
  {
   "cell_type": "markdown",
   "id": "4bc68312",
   "metadata": {},
   "source": [
    "### Inheritance\n",
    "\n",
    "Inheritance is the capability of one class to derive or inherit the properties from another class. The class that derives properties is called the derived class or child class and the class from which the properties are being derived is called the base class or parent class. The benefits of inheritance are:\n",
    "\n",
    "    It represents real-world relationships well.\n",
    "    It provides the reusability of a code. We don’t have to write the same code again and again. Also, it allows us to add more features to a class without modifying it.\n",
    "    It is transitive in nature, which means that if class B inherits from another class A, then all the subclasses of B would automatically inherit from class A."
   ]
  },
  {
   "cell_type": "code",
   "execution_count": 17,
   "id": "42a4ad08",
   "metadata": {},
   "outputs": [],
   "source": [
    "# Python code to demonstrate how parent constructors are called.\n",
    "\n",
    "# parent class\n",
    "class Person(object):\n",
    "\n",
    "# __init__ is known as the constructor\n",
    "    def __init__(self, name, idnumber):\n",
    "        self.name = name\n",
    "        self.idnumber = idnumber\n",
    "\n",
    "    def display(self):\n",
    "        print(self.name)\n",
    "        print(self.idnumber)\n",
    "\n",
    "    def printing(self):\n",
    "        print(\"My name is {} ,ok!\".format(self.name))\n",
    "        print(\"My IdNumber is : {}\".format(self.idnumber))\n"
   ]
  },
  {
   "cell_type": "code",
   "execution_count": 18,
   "id": "81d553a7",
   "metadata": {},
   "outputs": [],
   "source": [
    "# child class\n",
    "class Employee(Person):\n",
    "    def __init__(self, name, idnumber, salary, post):\n",
    "        self.salary = salary\n",
    "        self.post = post\n",
    "\n",
    "# invoking the __init__ of the parent class\n",
    "        Person.__init__(self, name, idnumber)\n",
    "\n",
    "    def details(self):\n",
    "        print(\"My name is {}\".format(self.name))\n",
    "        print(\"IdNumber: {}\".format(self.idnumber))\n",
    "        print(\"Post: {}\".format(self.post))\n",
    "\n",
    "\n",
    "# creation of an object variable or an instance\n",
    "a = Employee('Ubaid', 886012, 200000, \"Trainer\")\n",
    "\n"
   ]
  },
  {
   "cell_type": "code",
   "execution_count": 19,
   "id": "12655b78",
   "metadata": {},
   "outputs": [
    {
     "name": "stdout",
     "output_type": "stream",
     "text": [
      "Ubaid\n",
      "886012\n",
      "My name is Ubaid\n",
      "IdNumber: 886012\n",
      "Post: Trainer\n",
      "My name is Ubaid ,ok!\n",
      "My IdNumber is : 886012\n"
     ]
    }
   ],
   "source": [
    "# calling a function of the class Person using\n",
    "# its instance\n",
    "a.display()\n",
    "a.details()\n",
    "a.printing()"
   ]
  },
  {
   "cell_type": "markdown",
   "id": "7f34021d",
   "metadata": {},
   "source": [
    "### Polymorphism\n",
    "\n",
    "Polymorphism simply means having many forms. For example, we need to determine if the given species of birds fly or not, using polymorphism we can do this using a single function."
   ]
  },
  {
   "cell_type": "code",
   "execution_count": 20,
   "id": "91bd5ffa",
   "metadata": {},
   "outputs": [
    {
     "name": "stdout",
     "output_type": "stream",
     "text": [
      "There are many types of birds.\n",
      "Most of the birds can fly but some cannot.\n",
      "There are many types of birds.\n",
      "Sparrows can fly.\n",
      "There are many types of birds.\n",
      "Ostriches cannot fly.\n"
     ]
    }
   ],
   "source": [
    "class Bird:\n",
    "\n",
    "    def intro(self):\n",
    "        print(\"There are many types of birds.\")\n",
    "\n",
    "    def flight(self):\n",
    "        print(\"Most of the birds can fly but some cannot.\")\n",
    "\n",
    "class sparrow(Bird):\n",
    "\n",
    "    def flight(self):\n",
    "        print(\"Sparrows can fly.\")\n",
    "\n",
    "class ostrich(Bird):\n",
    "\n",
    "    def flight(self):\n",
    "        print(\"Ostriches cannot fly.\")\n",
    "\n",
    "obj_bird = Bird()\n",
    "obj_spr = sparrow()\n",
    "obj_ost = ostrich()\n",
    "\n",
    "obj_bird.intro()\n",
    "obj_bird.flight()\n",
    "\n",
    "obj_spr.intro()\n",
    "obj_spr.flight()\n",
    "\n",
    "obj_ost.intro()\n",
    "obj_ost.flight()\n"
   ]
  },
  {
   "cell_type": "markdown",
   "id": "23cf9756",
   "metadata": {},
   "source": [
    "### Encapsulation\n",
    "\n",
    "Encapsulation is one of the fundamental concepts in object-oriented programming (OOP). It describes the idea of wrapping data and the methods that work on data within one unit. This puts restrictions on accessing variables and methods directly and can prevent the accidental modification of data. To prevent accidental change, an object’s variable can only be changed by an object’s method. Those types of variables are known as private variables.\n",
    "\n",
    "A class is an example of encapsulation as it encapsulates all the data that is member functions, variables, etc."
   ]
  },
  {
   "cell_type": "code",
   "execution_count": 30,
   "id": "b8c3eb8e",
   "metadata": {},
   "outputs": [
    {
     "name": "stdout",
     "output_type": "stream",
     "text": [
      "Calling private member of base class: \n",
      "Data_Science\n",
      "Coding\n"
     ]
    },
    {
     "ename": "AttributeError",
     "evalue": "'Derived' object has no attribute '_Derived__c'",
     "output_type": "error",
     "traceback": [
      "\u001b[1;31m---------------------------------------------------------------------------\u001b[0m",
      "\u001b[1;31mAttributeError\u001b[0m                            Traceback (most recent call last)",
      "\u001b[1;32m<ipython-input-30-9dcc8b43a04f>\u001b[0m in \u001b[0;36m<module>\u001b[1;34m\u001b[0m\n\u001b[0;32m     26\u001b[0m \u001b[1;33m\u001b[0m\u001b[0m\n\u001b[0;32m     27\u001b[0m \u001b[1;33m\u001b[0m\u001b[0m\n\u001b[1;32m---> 28\u001b[1;33m \u001b[0mobj2\u001b[0m \u001b[1;33m=\u001b[0m \u001b[0mDerived\u001b[0m\u001b[1;33m(\u001b[0m\u001b[1;33m)\u001b[0m\u001b[1;33m\u001b[0m\u001b[1;33m\u001b[0m\u001b[0m\n\u001b[0m\u001b[0;32m     29\u001b[0m \u001b[0mprint\u001b[0m\u001b[1;33m(\u001b[0m\u001b[0mobj2\u001b[0m\u001b[1;33m.\u001b[0m\u001b[0m_Base__c\u001b[0m\u001b[1;33m)\u001b[0m\u001b[1;33m\u001b[0m\u001b[1;33m\u001b[0m\u001b[0m\n\u001b[0;32m     30\u001b[0m \u001b[1;33m\u001b[0m\u001b[0m\n",
      "\u001b[1;32m<ipython-input-30-9dcc8b43a04f>\u001b[0m in \u001b[0;36m__init__\u001b[1;34m(self)\u001b[0m\n\u001b[0;32m     18\u001b[0m         \u001b[0mprint\u001b[0m\u001b[1;33m(\u001b[0m\u001b[0mself\u001b[0m\u001b[1;33m.\u001b[0m\u001b[0ma\u001b[0m\u001b[1;33m)\u001b[0m\u001b[1;33m\u001b[0m\u001b[1;33m\u001b[0m\u001b[0m\n\u001b[0;32m     19\u001b[0m         \u001b[0mprint\u001b[0m\u001b[1;33m(\u001b[0m\u001b[0mself\u001b[0m\u001b[1;33m.\u001b[0m\u001b[0m_b\u001b[0m\u001b[1;33m)\u001b[0m\u001b[1;33m\u001b[0m\u001b[1;33m\u001b[0m\u001b[0m\n\u001b[1;32m---> 20\u001b[1;33m         \u001b[0mprint\u001b[0m\u001b[1;33m(\u001b[0m\u001b[0mself\u001b[0m\u001b[1;33m.\u001b[0m\u001b[0m__c\u001b[0m\u001b[1;33m)\u001b[0m\u001b[1;33m\u001b[0m\u001b[1;33m\u001b[0m\u001b[0m\n\u001b[0m\u001b[0;32m     21\u001b[0m \u001b[1;33m\u001b[0m\u001b[0m\n\u001b[0;32m     22\u001b[0m \u001b[1;33m\u001b[0m\u001b[0m\n",
      "\u001b[1;31mAttributeError\u001b[0m: 'Derived' object has no attribute '_Derived__c'"
     ]
    }
   ],
   "source": [
    "# Python program to\n",
    "# demonstrate private members\n",
    "\n",
    "# Creating a Base class\n",
    "class Base:\n",
    "    def __init__(self):\n",
    "        self.a = \"Data_Science\"\n",
    "        self._b=\"Coding\"\n",
    "        self.__c = \"Ubaid_Shah\"\n",
    "\n",
    "# Creating a derived class\n",
    "class Derived(Base):\n",
    "    def __init__(self):\n",
    "\n",
    "# Calling constructor of Base class\n",
    "        Base.__init__(self)\n",
    "        print(\"Calling private member of base class: \")\n",
    "        print(self.a)\n",
    "        print(self._b)\n",
    "        print(self.__c)\n",
    "\n",
    "\n",
    "# # Driver code\n",
    "# obj1 = Base()\n",
    "# print(obj1._Base__c)\n",
    "\n",
    "\n",
    "obj2 = Derived()\n",
    "print(obj2._Base__c)\n",
    "\n",
    "# Uncommenting print(obj1.c) will\n",
    "# raise an AttributeError\n",
    "\n",
    "# Uncommenting obj2 = Derived() will\n",
    "# also raise an AtrributeError as\n",
    "# private member of base class\n",
    "# is called inside derived class\n"
   ]
  },
  {
   "cell_type": "code",
   "execution_count": 22,
   "id": "f8682750",
   "metadata": {},
   "outputs": [],
   "source": [
    "# dir(obj1)"
   ]
  },
  {
   "cell_type": "code",
   "execution_count": 37,
   "id": "87fdbe90",
   "metadata": {},
   "outputs": [
    {
     "ename": "TypeError",
     "evalue": "__init__() missing 3 required positional arguments: 'a', 'b', and 'c'",
     "output_type": "error",
     "traceback": [
      "\u001b[1;31m---------------------------------------------------------------------------\u001b[0m",
      "\u001b[1;31mTypeError\u001b[0m                                 Traceback (most recent call last)",
      "\u001b[1;32m<ipython-input-37-535a9f985d02>\u001b[0m in \u001b[0;36m<module>\u001b[1;34m\u001b[0m\n\u001b[0;32m     25\u001b[0m \u001b[1;33m\u001b[0m\u001b[0m\n\u001b[0;32m     26\u001b[0m \u001b[1;33m\u001b[0m\u001b[0m\n\u001b[1;32m---> 27\u001b[1;33m \u001b[0mobj2\u001b[0m \u001b[1;33m=\u001b[0m \u001b[0mDerived\u001b[0m\u001b[1;33m(\u001b[0m\u001b[1;33m)\u001b[0m\u001b[1;33m\u001b[0m\u001b[1;33m\u001b[0m\u001b[0m\n\u001b[0m\u001b[0;32m     28\u001b[0m \u001b[0mprint\u001b[0m\u001b[1;33m(\u001b[0m\u001b[0mobj2\u001b[0m\u001b[1;33m.\u001b[0m\u001b[0m_b\u001b[0m\u001b[1;33m)\u001b[0m\u001b[1;33m\u001b[0m\u001b[1;33m\u001b[0m\u001b[0m\n\u001b[0;32m     29\u001b[0m \u001b[1;33m\u001b[0m\u001b[0m\n",
      "\u001b[1;32m<ipython-input-37-535a9f985d02>\u001b[0m in \u001b[0;36m__init__\u001b[1;34m(self)\u001b[0m\n\u001b[0;32m     14\u001b[0m \u001b[1;33m\u001b[0m\u001b[0m\n\u001b[0;32m     15\u001b[0m \u001b[1;31m# Calling constructor of Base class\u001b[0m\u001b[1;33m\u001b[0m\u001b[1;33m\u001b[0m\u001b[1;33m\u001b[0m\u001b[0m\n\u001b[1;32m---> 16\u001b[1;33m         \u001b[0mBase\u001b[0m\u001b[1;33m.\u001b[0m\u001b[0m__init__\u001b[0m\u001b[1;33m(\u001b[0m\u001b[0mself\u001b[0m\u001b[1;33m)\u001b[0m\u001b[1;33m\u001b[0m\u001b[1;33m\u001b[0m\u001b[0m\n\u001b[0m\u001b[0;32m     17\u001b[0m         \u001b[0mprint\u001b[0m\u001b[1;33m(\u001b[0m\u001b[1;34m\"Calling private member of base class: \"\u001b[0m\u001b[1;33m)\u001b[0m\u001b[1;33m\u001b[0m\u001b[1;33m\u001b[0m\u001b[0m\n\u001b[0;32m     18\u001b[0m         \u001b[0mprint\u001b[0m\u001b[1;33m(\u001b[0m\u001b[0mself\u001b[0m\u001b[1;33m.\u001b[0m\u001b[0m_b\u001b[0m\u001b[1;33m)\u001b[0m\u001b[1;33m\u001b[0m\u001b[1;33m\u001b[0m\u001b[0m\n",
      "\u001b[1;31mTypeError\u001b[0m: __init__() missing 3 required positional arguments: 'a', 'b', and 'c'"
     ]
    }
   ],
   "source": [
    "# Python program to\n",
    "# demonstrate private members\n",
    "\n",
    "# Creating a Base class\n",
    "class Base:\n",
    "    def __init__(self,a,b,c):\n",
    "        self.a = a\n",
    "        self._b=b\n",
    "        self.__c = c\n",
    "\n",
    "# Creating a derived class\n",
    "class Derived(Base):\n",
    "    def __init__(self):\n",
    "\n",
    "# Calling constructor of Base class\n",
    "        Base.__init__(self)\n",
    "        print(\"Calling private member of base class: \")\n",
    "        print(self._b)\n",
    "        print(self.__c)\n",
    "\n",
    "\n",
    "# Driver code\n",
    "# obj1 = Base(\"Data Science\",\"Coding\",\"Ubaid Shah\")\n",
    "# print(obj1.a)\n",
    "\n",
    "\n",
    "obj2 = Derived()\n",
    "print(obj2._b)\n",
    "\n",
    "# Uncommenting print(obj1.c) will\n",
    "# raise an AttributeError\n",
    "\n",
    "# Uncommenting obj2 = Derived() will\n",
    "# also raise an AtrributeError as\n",
    "# private member of base class\n",
    "# is called inside derived class\n"
   ]
  },
  {
   "cell_type": "code",
   "execution_count": 32,
   "id": "a038a6d8",
   "metadata": {},
   "outputs": [
    {
     "data": {
      "text/plain": [
       "['_Base__c',\n",
       " '__class__',\n",
       " '__delattr__',\n",
       " '__dict__',\n",
       " '__dir__',\n",
       " '__doc__',\n",
       " '__eq__',\n",
       " '__format__',\n",
       " '__ge__',\n",
       " '__getattribute__',\n",
       " '__gt__',\n",
       " '__hash__',\n",
       " '__init__',\n",
       " '__init_subclass__',\n",
       " '__le__',\n",
       " '__lt__',\n",
       " '__module__',\n",
       " '__ne__',\n",
       " '__new__',\n",
       " '__reduce__',\n",
       " '__reduce_ex__',\n",
       " '__repr__',\n",
       " '__setattr__',\n",
       " '__sizeof__',\n",
       " '__str__',\n",
       " '__subclasshook__',\n",
       " '__weakref__',\n",
       " '_b',\n",
       " 'a']"
      ]
     },
     "execution_count": 32,
     "metadata": {},
     "output_type": "execute_result"
    }
   ],
   "source": [
    "dir(obj1)"
   ]
  },
  {
   "cell_type": "code",
   "execution_count": null,
   "id": "285d3ffb",
   "metadata": {},
   "outputs": [],
   "source": []
  }
 ],
 "metadata": {
  "kernelspec": {
   "display_name": "Python 3",
   "language": "python",
   "name": "python3"
  },
  "language_info": {
   "codemirror_mode": {
    "name": "ipython",
    "version": 3
   },
   "file_extension": ".py",
   "mimetype": "text/x-python",
   "name": "python",
   "nbconvert_exporter": "python",
   "pygments_lexer": "ipython3",
   "version": "3.8.8"
  }
 },
 "nbformat": 4,
 "nbformat_minor": 5
}
